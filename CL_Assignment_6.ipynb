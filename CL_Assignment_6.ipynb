{
  "cells": [
    {
      "cell_type": "markdown",
      "metadata": {
        "id": "hfI6N1bII-gE"
      },
      "source": [
        "# Nature inspired optimization\n",
        "\n",
        "## Task 1 - Genetic Algorithm\n",
        "\n",
        "Write genetic algorithm in Python and solve the Knapsack problem.\n"
      ]
    },
    {
      "cell_type": "markdown",
      "metadata": {
        "id": "29dDMiuyJ2sL"
      },
      "source": [
        "Weights in Kg and costs in EUR for a set of 64 items are given. The goal of the optimization algorithm is to select items to knapsack so that the cost of items reaches the maximum and weight of items do not exceed the knapsack weight limit. \n",
        "\n",
        "After writing your algorithm change weights and costs to test the algorithm again."
      ]
    },
    {
      "cell_type": "code",
      "execution_count": 2,
      "metadata": {
        "colab": {
          "base_uri": "https://localhost:8080/"
        },
        "id": "VD3fMOpLLiHK",
        "outputId": "2530babb-0b2a-4d73-a9ee-2013f594932d"
      },
      "outputs": [
        {
          "output_type": "stream",
          "name": "stdout",
          "text": [
            "weight -> cost  | cost per kilo\n",
            " 2.3kg ->    6€ | 2.6\n",
            " 8.1kg ->   17€ | 2.1\n",
            " 6.0kg ->   10€ | 1.7\n",
            " 4.2kg ->   26€ | 6.2\n",
            " 1.3kg ->   19€ | 14.6\n",
            " 2.9kg ->   81€ | 27.9\n",
            " 7.0kg ->   67€ | 9.6\n",
            " 7.9kg ->   36€ | 4.6\n",
            " 3.6kg ->   21€ | 5.8\n",
            " 5.0kg ->   33€ | 6.6\n",
            " 3.1kg ->   13€ | 4.2\n",
            " 5.0kg ->    5€ | 1.0\n",
            " 3.4kg ->  172€ | 50.6\n",
            " 5.3kg ->  138€ | 26.0\n",
            " 0.8kg ->  185€ | 231.2\n",
            " 6.9kg ->   27€ | 3.9\n",
            " 9.8kg ->    4€ | 0.4\n",
            " 4.4kg ->    3€ | 0.7\n",
            " 5.4kg ->   11€ | 2.0\n",
            " 7.5kg ->   19€ | 2.5\n",
            " 4.6kg ->   95€ | 20.7\n",
            " 0.3kg ->   90€ | 300.0\n",
            " 9.2kg ->   24€ | 2.6\n",
            " 8.8kg ->   20€ | 2.3\n",
            " 2.2kg ->   28€ | 12.7\n",
            " 3.3kg ->   19€ | 5.8\n",
            " 9.9kg ->    7€ | 0.7\n",
            " 7.6kg ->   28€ | 3.7\n",
            " 5.9kg ->   14€ | 2.4\n",
            " 4.2kg ->   43€ | 10.2\n",
            " 4.9kg ->   40€ | 8.2\n",
            " 5.8kg ->   12€ | 2.1\n",
            " 4.4kg ->   25€ | 5.7\n",
            " 2.9kg ->   37€ | 12.8\n",
            " 0.1kg ->   25€ | 250.0\n",
            " 2.4kg ->   16€ | 6.7\n",
            " 5.6kg ->   85€ | 15.2\n",
            " 7.8kg ->   20€ | 2.6\n",
            " 7.0kg ->   15€ | 2.1\n",
            " 7.5kg ->   59€ | 7.9\n",
            " 7.3kg ->   72€ | 9.9\n",
            " 7.4kg ->  168€ | 22.7\n",
            " 6.4kg ->   30€ | 4.7\n",
            " 1.6kg ->   57€ | 35.6\n",
            " 6.8kg ->   49€ | 7.2\n",
            " 4.0kg ->   66€ | 16.5\n",
            " 4.6kg ->   75€ | 16.3\n",
            " 4.1kg ->   23€ | 5.6\n",
            " 0.5kg ->   79€ | 158.0\n",
            " 6.3kg ->   20€ | 3.2\n",
            " 5.2kg ->  104€ | 20.0\n",
            " 1.5kg ->    9€ | 6.0\n",
            " 9.7kg ->   32€ | 3.3\n",
            " 1.6kg ->   46€ | 28.8\n",
            " 2.6kg ->   47€ | 18.1\n",
            " 1.3kg ->   55€ | 42.3\n",
            " 6.5kg ->   21€ | 3.2\n",
            " 2.6kg ->   18€ | 6.9\n",
            " 7.8kg ->   23€ | 2.9\n",
            " 6.3kg ->   44€ | 7.0\n",
            " 8.4kg ->   61€ | 7.3\n",
            " 9.4kg ->    8€ | 0.9\n",
            " 1.4kg ->   42€ | 30.0\n",
            " 7.5kg ->    1€ | 0.1\n"
          ]
        }
      ],
      "source": [
        "# Example\n",
        "import numpy as np\n",
        "import random\n",
        "\n",
        "# 64 items and their weights.\n",
        "# Replace the weights with your own set of weights\n",
        "# \n",
        "weights_of_items = np.array([\n",
        "    2.3, 8.1, 6., 4.2, 1.3, 2.9, 7., 7.9,\n",
        "    3.6, 5., 3.1, 5., 3.4, 5.3, 0.8, 6.9,\n",
        "    9.8, 4.4, 5.4, 7.5, 4.6, 0.3, 9.2, 8.8,\n",
        "    2.2, 3.3, 9.9, 7.6, 5.9, 4.2, 4.9, 5.8,\n",
        "    4.4, 2.9, 0.1, 2.4, 5.6, 7.8, 7., 7.5,\n",
        "    7.3, 7.4, 6.4, 1.6, 6.8, 4., 4.6, 4.1,\n",
        "    0.5, 6.3, 5.2, 1.5, 9.7, 1.6, 2.6, 1.3,\n",
        "    6.5, 2.6, 7.8, 6.3, 8.4, 9.4, 1.4, 7.5])\n",
        "#\n",
        "#  64 costs corresponding to weights\n",
        "#  Replace the weights with your own set of weights\n",
        "costs_of_items = [ \n",
        "           6.,  17.,  10., 26.,  19.,  81.,  67., 36.,\n",
        "          21.,  33.,  13.,  5., 172., 138., 185., 27.,\n",
        "           4.,   3.,  11., 19.,  95.,  90.,  24., 20.,\n",
        "          28.,  19.,   7., 28.,  14.,  43.,  40., 12.,\n",
        "          25.,  37.,  25., 16.,  85.,  20.,  15., 59.,\n",
        "          72., 168.,  30., 57.,  49.,  66.,  75., 23.,\n",
        "          79.,  20., 104.,  9.,  32.,  46.,  47., 55.,\n",
        "          21.,  18.,  23., 44.,  61.,   8.,  42.,  1.]\n",
        "#\n",
        "# Knapsack weight limit \n",
        "# \n",
        "knapsack_weight_limit = 100\n",
        "#\n",
        "print(\"weight -> cost  | cost per kilo\") \n",
        "for i in range(len(weights_of_items)):\n",
        "  print(\"{:-4.1f}kg -> {:-4.0f}€ | {:.1f}\".format(\n",
        "      weights_of_items[i], costs_of_items[i], \n",
        "        costs_of_items[i]/weights_of_items[i]))\n"
      ]
    },
    {
      "cell_type": "markdown",
      "metadata": {
        "id": "xhwT3O6SwOjU"
      },
      "source": [
        "### Parameters of the algorithm\n",
        "\n",
        "\n",
        "\n",
        "*   **chromosome_size** - dimension of the chromosome vector. We have 64 items so that the chromosome_size is equal to 64 \n",
        "*   **population_size** - number of individuals in the population\n",
        "*   **parent_count** - number of parents that are selected from the population on the base of the roulette selection. The parent count must be less than population size.\n",
        "*   **probability_of_ones_in_a_new_chromosome** - probability which is used for initial population generation. It is probability of one in the initial chromosome. High values may lead to generation of many individuals with fitness equal to zero. This parameter is specific for our method of generation the initial chromosome. This parameter is meaningless if you choice another method.\n",
        "* **probability_of_crossover** - probability of crossover\n",
        "* **probability_of_mutation** - probability of mutation. We recommend to start at the value of 1/ga_chromosome_size and increase later\n",
        "\n",
        "\n",
        "\n",
        "\n",
        "\n",
        "\n",
        "\n"
      ]
    },
    {
      "cell_type": "code",
      "execution_count": 3,
      "metadata": {
        "id": "bTETN6YZxAvj"
      },
      "outputs": [],
      "source": [
        "# Example\n",
        "\n",
        "# Genetic algorithm parameters\n",
        "ga_chromosome_size = len(weights_of_items)\n",
        "ga_probability_of_ones_in_a_new_chromosome = 0.1\n",
        "ga_probability_of_crossover = 0.3\n",
        "ga_probability_of_mutation  = 1.0 / ga_chromosome_size\n",
        "ga_population_size = 100\n",
        "ga_parent_count = ga_population_size * 3 // 4 # 3/4 of the population size\n",
        "ga_generations = 100"
      ]
    },
    {
      "cell_type": "markdown",
      "metadata": {
        "id": "YwW-niumx5wN"
      },
      "source": [
        "### Algorithm components\n",
        "\n",
        "#### Fitness function definition\n",
        "\n",
        "Let ${\\bf w}$ is the weight vector, ${\\bf c}$ is the cost vector, ${\\bf g}$ is a chromosome and L is the weight limit, we define the fitness function as \n",
        "\n",
        "$$\\text{fitness}({\\bf g}) = \n",
        "\\begin{cases}\n",
        "  0 & \\text{iff} \\quad \\sum_{i=0}^{N-1}w_ig_i > L \\\\\n",
        "  \\sum_{i=0}^{N-1}c_ig_i & \\text{otherwise}\n",
        "\\end{cases}$$ \n",
        "\n",
        "Define the fitness function\n",
        "```python\n",
        "def fitness(w, c, L, g):\n",
        "  return f #fitness\n",
        "```\n"
      ]
    },
    {
      "cell_type": "code",
      "execution_count": 91,
      "metadata": {
        "id": "91ZL7H_Qx-PY"
      },
      "outputs": [],
      "source": [
        "# Write your code here\n",
        "def fitness(w, c, L, g):\n",
        "\n",
        "  total_weight = sum(w[i] * g[i] for i in range(len(g)))\n",
        "  total_cost = sum(c[i] * g[i] for i in range(len(g)))\n",
        "  wg = np.round(total_weight,2)\n",
        "  if total_weight > L:\n",
        "    f = 0\n",
        "  else:\n",
        "    f = total_cost\n",
        "  \n",
        "  return f,wg #fitness"
      ]
    },
    {
      "cell_type": "markdown",
      "metadata": {
        "id": "jDe93NMB5kzO"
      },
      "source": [
        "#### Chromosome Initialization\n",
        "\n",
        "Let $p$ is the initialization probability for 1 in a new chromosome, $\\psi$ is a random value with the unique distribution in the range of $<0,1>$ and ${\\bf g}$ is a new chromosome then\n",
        "\n",
        "$$g_i = \n",
        "\\begin{cases}\n",
        "  1 &  \\text{iff} \\quad \\psi < p \\\\\n",
        "  0 &  \\text{otherwise}\n",
        "\\end{cases}$$ \n",
        "\n",
        "for all $i \\in <0, N-1>$ where $N=|{\\bf g}|$.\n",
        "\n",
        "The $p$ should be sufficiently low to generate a valid solution with non-zero fitness. Check the validity of the solution after chromosome creation and recreate it if the total weight of the knapsack is above the weight limit $L$. More formally for a valid solution\n",
        "\n",
        "$$\\sum_{i=0}^{N-1}w_ig_i < L$$\n",
        "\n",
        "where ${\\bf w}$ is the weight vector. \n",
        "\n",
        "This is recommended, but not mandatory way how to initialize a new chromosome. Be aware that producing non-valid solutions with zero fitness at start may disturb the algorithm.\n",
        "\n",
        "Define python function\n",
        "```python\n",
        "def generate_chromosome(N, w, L, p):\n",
        "  pass\n",
        "```\n"
      ]
    },
    {
      "cell_type": "code",
      "execution_count": 6,
      "metadata": {
        "id": "tswAvgaw5811"
      },
      "outputs": [],
      "source": [
        "# Write your code here\n",
        "def generate_chromosome(N, w, L, p):\n",
        "  psi = np.random.uniform(0,1)\n",
        "  g = np.zeros(64)\n",
        "  for i in range(N):\n",
        "    psi = np.random.uniform(0,1)\n",
        "    if(psi < p):\n",
        "      g[i] = 1\n",
        "    else:\n",
        "      g[i] = 0\n",
        "\n",
        "  total_weight = sum(w[i] * g[i] for i in range(len(g)))\n",
        "  if total_weight > L:\n",
        "    return generate_chromosome(N,w,L,p)\n",
        "  \n",
        "  return g"
      ]
    },
    {
      "cell_type": "markdown",
      "metadata": {
        "id": "LrdcJ7yZ3wVS"
      },
      "source": [
        "#### Initialize the population\n",
        "\n",
        "The population is represented by a numpy matrix. Rows of the matrix correspond to individuals, columns corresponds to genes in the chromosome. Our matrix has 64 columns because we have 64 items.\n",
        "\n",
        "Call ```generate_chromosome()``` function for each row of the matrix.\n",
        "\n",
        "Define python function\n",
        "\n",
        "```python\n",
        "def initialize_population(population_size,\n",
        "         chromosome_size, weights, weight_limit,\n",
        "         probability_of_ones_in_a_new_chromosome):\n",
        "         ...\n",
        "         return population\n",
        "```        "
      ]
    },
    {
      "cell_type": "code",
      "execution_count": 11,
      "metadata": {
        "id": "ZKMz1ruX_bmt",
        "colab": {
          "base_uri": "https://localhost:8080/"
        },
        "outputId": "7393d120-9640-401d-e264-3e8f8e64de58"
      },
      "outputs": [
        {
          "output_type": "stream",
          "name": "stdout",
          "text": [
            "[[0. 0. 0. ... 0. 0. 0.]\n",
            " [0. 0. 0. ... 1. 0. 0.]\n",
            " [0. 1. 0. ... 0. 0. 1.]\n",
            " ...\n",
            " [0. 0. 0. ... 0. 0. 0.]\n",
            " [0. 0. 0. ... 0. 0. 0.]\n",
            " [0. 0. 0. ... 0. 0. 0.]]\n",
            "(100, 64)\n"
          ]
        }
      ],
      "source": [
        "# Write your code here\n",
        "def initialize_population(population_size,chromosome_size, weights, weight_limit,probability_of_ones_in_a_new_chromosome):\n",
        "  population = generate_chromosome(chromosome_size,weights,weight_limit,probability_of_ones_in_a_new_chromosome)\n",
        "  for i in range(population_size-1):\n",
        "    newrow = generate_chromosome(chromosome_size,weights,weight_limit,probability_of_ones_in_a_new_chromosome)\n",
        "    population = np.vstack([population, newrow])\n",
        "\n",
        "  return population\n",
        "\n",
        "# p = (initialize_population(100,64,weights_of_items,100,0.1))\n",
        "# print(p)\n",
        "# print(p.shape)\n"
      ]
    },
    {
      "cell_type": "markdown",
      "metadata": {
        "id": "mdhnoIMqBzyO"
      },
      "source": [
        "#### Evaluate fitness\n",
        "\n",
        "Apply fitness function to all rows of the population matrix. The result is a vector of fitness values for all individuals in the population. The vector has the same size as the size of the population.\n",
        "\n",
        "```\n",
        "def evaluate_fitness(population, weights, costs, weight_limit)\n",
        "  pass\n",
        "```\n"
      ]
    },
    {
      "cell_type": "code",
      "execution_count": 62,
      "metadata": {
        "id": "2JQ23hxoCOpq",
        "colab": {
          "base_uri": "https://localhost:8080/"
        },
        "outputId": "4a2a9218-e021-4645-b59a-8f2fe42787bb"
      },
      "outputs": [
        {
          "output_type": "stream",
          "name": "stdout",
          "text": [
            "[200. 177. 333. 145. 166. 342. 425. 344. 241. 574. 163.  55.  64. 313.\n",
            "  74. 179. 134. 156. 252. 261.  63. 620. 359.  92. 430.  57.  96.  55.\n",
            " 299. 352. 294. 289. 328. 365. 163. 246. 238. 209.  14. 312. 398. 334.\n",
            " 187. 186. 120.  75. 378. 430. 106. 132. 130. 292. 149. 508.  56.  73.\n",
            " 470. 102. 208. 106. 555. 434.  93. 140. 302.  65. 178. 413. 438. 339.\n",
            " 650. 223. 320. 585. 480. 321. 527. 123. 147. 461. 126. 232. 443. 276.\n",
            "  46. 120. 106. 282. 150. 383. 446. 331. 597. 394. 212. 404. 145. 258.\n",
            " 261. 241.] \n",
            " [21.2 34.8 47.3 41.8 23.7 45.5 36.7 36.2 44.8 84.6 26.5  9.1 25.5 46.2\n",
            "  9.2 44.7 47.  39.6 45.6 12.6  5.9 48.3 45.8 18.  38.3 17.4 20.5  1.3\n",
            " 29.6 30.8 24.8 24.5 28.9 55.8 22.   9.2 43.2 29.4 15.8 30.4 53.  52.4\n",
            " 18.  25.3 37.5 20.9 24.2 46.1 23.2  6.2  4.8 33.  34.4 45.  17.2 15.9\n",
            " 18.1 10.9 18.4  9.9 48.1 58.6 24.3 23.7 26.8 11.8 29.9 34.7 53.8 30.1\n",
            " 41.2 31.9 33.5 42.7 51.5 27.8 73.1  5.6 17.5 34.3 25.9 30.5 62.  49.8\n",
            " 15.4 23.7 18.1 21.1 10.  35.2 34.7 13.  31.1 48.4 23.2 27.7 12.5 27.\n",
            " 45.4 33.1]\n"
          ]
        }
      ],
      "source": [
        "# Write your code here\n",
        "def evaluate_fitness(population, weights, costs, weight_limit):\n",
        "  fitness_eval = np.zeros(len(population))\n",
        "  wg = np.zeros(len(population))\n",
        "  for i in range(len(population)):\n",
        "    fitness_eval[i],wg[i] = fitness(weights,costs,weight_limit,population[i])\n",
        "  \n",
        "  return fitness_eval,wg\n",
        "\n",
        "# f,wg = evaluate_fitness(p, weights_of_items, costs_of_items, knapsack_weight_limit)\n",
        "# print(f,\"\\n\",wg)"
      ]
    },
    {
      "cell_type": "markdown",
      "metadata": {
        "id": "r86kz1V8YIR_"
      },
      "source": [
        "#### Roulette Selection\n",
        "\n",
        "Implement roulette selection. First create a \"roulette\", i.e. an array of the same size as the population size $N$ where each element $r_i$ is equal to\n",
        "\n",
        "$$r_i = \\frac{f_j}{F} + r_{i-1}; r_{-1}=0, F = \\sum_{k=0}^{N-1}f_k$$\n",
        "\n",
        "Generate a random number $\\psi \\in <0,1>$ (uniform distribution) and find the index $i$ in the ${\\bf r}$ array so that $r_{i-1} < \\psi <= r_i$.\n",
        "\n",
        "Hint: use ```numpy.searchsorted``` function. What is the complexity of the search with respect to the population size ?\n"
      ]
    },
    {
      "cell_type": "code",
      "execution_count": 29,
      "metadata": {
        "id": "xylRPzMUYepq"
      },
      "outputs": [],
      "source": [
        "# Write your code here\n",
        "def roulette_selection(population,fitness_values):\n",
        "  N = len(population)\n",
        "  F = sum(fitness_values)\n",
        "  r = np.zeros(N)\n",
        "  psi = np.random.uniform(0, 1)\n",
        "  for i in range(0, N):\n",
        "    r[i] = fitness_values[i]/F +r[i-1]\n",
        "  \n",
        "  i = np.searchsorted(r,psi)\n",
        "  ind = population[i]\n",
        "  return ind"
      ]
    },
    {
      "cell_type": "code",
      "source": [
        "# ind = roulette_selection(p,f)\n",
        "# ind"
      ],
      "metadata": {
        "colab": {
          "base_uri": "https://localhost:8080/"
        },
        "id": "AjIey2zNP85_",
        "outputId": "a0879165-554b-4817-88a8-cae8c612c5a7"
      },
      "execution_count": 30,
      "outputs": [
        {
          "output_type": "execute_result",
          "data": {
            "text/plain": [
              "array([0., 0., 0., 0., 0., 0., 0., 0., 0., 0., 0., 0., 0., 0., 0., 0., 0.,\n",
              "       0., 0., 0., 0., 0., 0., 0., 0., 0., 0., 0., 1., 0., 0., 0., 0., 0.,\n",
              "       0., 0., 0., 0., 0., 1., 0., 0., 0., 0., 0., 0., 1., 1., 0., 0., 0.,\n",
              "       0., 0., 0., 0., 0., 0., 0., 0., 0., 1., 0., 0., 0.])"
            ]
          },
          "metadata": {},
          "execution_count": 30
        }
      ]
    },
    {
      "cell_type": "markdown",
      "source": [
        "#### What is the complexity of the search with respect to the population size ?\n",
        "The **complexity** of the search with respect to the population size is O(log(N)), as numpy.searchsorted uses a binary search algorithm to find the index in the array. This means that the time complexity of the roulette selection algorithm is O(N log(N)), as the fitness values must be calculated for all individuals in the population and the search for the index in the roulette array takes O(log(N)) time."
      ],
      "metadata": {
        "id": "5kLc-u0e9tZr"
      }
    },
    {
      "cell_type": "markdown",
      "metadata": {
        "id": "SeQJSHSWUR9x"
      },
      "source": [
        "#### Crossover\n",
        "\n",
        "Let ${\\bf a}$ is a chromosome, ${\\bf b}$ is a chromosome, $p$ is a probability of crossover and $N = |{\\bf a}| = |{\\bf b}|$. Generate randomly an index $i$ in the range of $i \\in <0, N - 1>$. Further generate a real random number $\\psi \\in <0,1>$ from uniform distribution. Create a new chromosome ${\\bf r}$ according to \n",
        "\n",
        "$$\n",
        "r_k = \n",
        "\\begin{cases}\n",
        "    b_k & k <= i \\land \\psi < p\\\\\n",
        "    a_k & \\text{otherwise}\n",
        "\\end{cases}     \n",
        "$$ \n",
        "\n",
        "for all $k$ in the range of $<0, N-1>$\n",
        "\n",
        "Define python function\n",
        "```python\n",
        "define crossover(a, b, p):\n",
        "  ...\n",
        "  return r\n",
        "```  \n"
      ]
    },
    {
      "cell_type": "code",
      "execution_count": 32,
      "metadata": {
        "id": "bNFCL5heUnd8",
        "colab": {
          "base_uri": "https://localhost:8080/"
        },
        "outputId": "164a6b24-1883-4844-a355-ca0916aca986"
      },
      "outputs": [
        {
          "output_type": "execute_result",
          "data": {
            "text/plain": [
              "array([0., 0., 0., 0., 0., 0., 0., 0., 0., 0., 0., 1., 0., 0., 0., 0., 1.,\n",
              "       0., 0., 0., 0., 0., 1., 0., 0., 0., 0., 0., 0., 0., 0., 0., 0., 0.,\n",
              "       1., 0., 0., 0., 1., 0., 0., 0., 0., 0., 0., 0., 0., 0., 0., 0., 0.,\n",
              "       0., 0., 0., 1., 0., 0., 0., 0., 0., 0., 0., 0., 0.])"
            ]
          },
          "metadata": {},
          "execution_count": 32
        }
      ],
      "source": [
        "# Write your code here\n",
        "def crossover(a, b, p):\n",
        "  N = len(a)\n",
        "  i = np.random.randint(0,N)\n",
        "  psi = np.random.uniform(0, 1)\n",
        "  r = np.zeros(N)\n",
        "  for k in range(N):\n",
        "    # If k <= i and psi < p, append the k-th element of a to r\n",
        "    if k <= i and psi < p:\n",
        "      r[k] = a[k]\n",
        "    # Otherwise, append the k-th element of b to r\n",
        "    else:\n",
        "      r[k] = b[k] \n",
        "  \n",
        "  return r\n",
        "\n",
        "# a = generate_chromosome(ga_chromosome_size,weights_of_items,knapsack_weight_limit,ga_probability_of_ones_in_a_new_chromosome)\n",
        "# b = generate_chromosome(ga_chromosome_size,weights_of_items,knapsack_weight_limit,ga_probability_of_ones_in_a_new_chromosome)\n",
        "# c = crossover(a,b,ga_probability_of_crossover)\n",
        "# c"
      ]
    },
    {
      "cell_type": "markdown",
      "metadata": {
        "id": "VVmTQ47lt6Kd"
      },
      "source": [
        "#### Mutation\n",
        "\n",
        "Let ${\\bf g}$ is a chromosome and $N =|{\\bf g}|$ is the length of the chromosome. For each index $i \\in <0, N-1>$ generate a real random number $\\psi$ from uniform distribution and create a new chromosome ${\\bf r}$ according to\n",
        "$$\n",
        "r_i=\n",
        "\\begin{cases}\n",
        "0 & \\quad g_i = 1 \\land \\psi < p \\\\\n",
        "1 & \\quad g_i = 0 \\land \\psi < p \\\\\n",
        "g_i & \\text{otherwise}\n",
        "\\end{cases}\n",
        "$$ \n",
        "\n",
        "for all indexes $i \\in <0, N-1>$. \n",
        "\n",
        "Define a python function\n",
        "```python\n",
        "def mutation(g, p):\n",
        "    ...\n",
        "    return m\n",
        "```    "
      ]
    },
    {
      "cell_type": "code",
      "execution_count": 33,
      "metadata": {
        "id": "B6FtgkSAI4Qn",
        "colab": {
          "base_uri": "https://localhost:8080/"
        },
        "outputId": "9e36a1ee-cd87-497c-b6c0-dbb553d91ce2"
      },
      "outputs": [
        {
          "output_type": "execute_result",
          "data": {
            "text/plain": [
              "array([1., 0., 0., 0., 1., 0., 0., 0., 0., 0., 0., 1., 1., 0., 0., 0., 0.,\n",
              "       0., 0., 0., 0., 0., 0., 0., 0., 0., 0., 0., 0., 1., 0., 0., 0., 0.,\n",
              "       1., 0., 0., 0., 0., 0., 0., 0., 0., 0., 0., 0., 1., 1., 1., 0., 0.,\n",
              "       0., 0., 0., 0., 0., 0., 0., 0., 0., 0., 0., 0., 0.])"
            ]
          },
          "metadata": {},
          "execution_count": 33
        }
      ],
      "source": [
        "# Write your code here\n",
        "def mutation(g, p):\n",
        "  N = len(g)\n",
        "  m = np.zeros(N)\n",
        "\n",
        "  for i in range(N):\n",
        "    psi = np.random.uniform(0, 1)\n",
        "    \n",
        "    # If g[i] == 1 and psi < p, append 1 to r\n",
        "    if g[i] == 1 and psi < p:\n",
        "      m[i] = 1\n",
        "    # If g[i] == 0 and psi < p, append 0 to r\n",
        "    elif g[i] == 0 and psi < p:\n",
        "      m[i] = 0\n",
        "    # Otherwise, append the i-th element of g to r\n",
        "    else:\n",
        "      m[i] = g[i]\n",
        "\n",
        "    \n",
        "  return m\n",
        "\n",
        "# g = generate_chromosome(ga_chromosome_size,weights_of_items,knapsack_weight_limit,ga_probability_of_ones_in_a_new_chromosome)\n",
        "# m = mutation(g,ga_probability_of_mutation)\n",
        "# m\n"
      ]
    },
    {
      "cell_type": "markdown",
      "metadata": {
        "id": "uiffO4xRAD4Y"
      },
      "source": [
        "### Genetic Algorithm\n",
        "\n",
        "Implement the genetic algorithm according to following pseudocode\n",
        "\n",
        "```pseudocode\n",
        "init_population\n",
        "evaluate_fitness\n",
        "for i in range(generations):\n",
        "    parents <- roulette_selection (parent_size)\n",
        "    copy parents to new population\n",
        "    fill new population by chromosomes obtained\n",
        "       by crossover followed by mutation to ensure\n",
        "       that new population will reach \n",
        "       the population_size\n",
        "    evaluate_fitness\n",
        "```  \n",
        "\n",
        "In the loop collect history as the best solution (highest fitness), the total weight of that solution and other useful information as generation number, minimum weight, maximum weight and minimum cost."
      ]
    },
    {
      "cell_type": "code",
      "source": [
        "# this function calculates the total weight of the solution\n",
        "def calculate_total_weight(chromosome):\n",
        "  total_weight = np.round(sum([weights_of_items[i]*chromosome[i] for i in range(len(weights_of_items))]),2)\n",
        "  return total_weight\n",
        "\n",
        "# # this function calculates the total cost of the population\n",
        "def calculate_total_cost(chromosome):\n",
        "  total_cost = np.round(sum([costs_of_items[i] * chromosome[i] for i in range(len(costs_of_items))]),2)\n",
        "  return total_cost"
      ],
      "metadata": {
        "id": "MG7PbKXkPEIK"
      },
      "execution_count": 92,
      "outputs": []
    },
    {
      "cell_type": "code",
      "execution_count": 93,
      "metadata": {
        "id": "VhqrplUa_4RG"
      },
      "outputs": [],
      "source": [
        "# Write your code here according to the given pseudo code\n",
        "# init_population\n",
        "population = initialize_population(ga_population_size,ga_chromosome_size,weights_of_items,knapsack_weight_limit,ga_probability_of_ones_in_a_new_chromosome)\n",
        "# evaluate_fitness\n",
        "fitness_values,wg = evaluate_fitness(population,weights_of_items,costs_of_items,knapsack_weight_limit)\n",
        "generations = ga_generations\n",
        "# Initialize the history list with the best solution from the initial population\n",
        "history = []\n",
        "best_solution_index = np.argmax(fitness_values)\n",
        "best_solution = population[best_solution_index, :]\n",
        "best_weight = calculate_total_weight(best_solution) \n",
        "history.append({\n",
        "    'generation': 0,\n",
        "    'best_solution': best_solution,\n",
        "    'best_cost': calculate_total_cost(best_solution),\n",
        "    'best_weight': best_weight,\n",
        "    'min_weight':np.min(wg),\n",
        "    'max_weight': np.max(wg),\n",
        "    'min_cost': np.min(fitness_values)\n",
        "})\n",
        "\n",
        "# Loop over the specified number of generations\n",
        "for i in range(generations):\n",
        "  # Select parents using the roulette selection function\n",
        "  parents = roulette_selection(population, fitness_values)\n",
        "  \n",
        "  # Initialize the new population as a copy of the selected parents\n",
        "  new_population = np.copy(parents)\n",
        "  \n",
        "  # Fill the new population with chromosomes obtained by crossover and mutation\n",
        "  while new_population.shape[0] < ga_population_size:\n",
        "    # Select two parents for crossover using the roulette selection function\n",
        "    parent1 = roulette_selection(population, fitness_values)\n",
        "    parent2 = roulette_selection(population, fitness_values)\n",
        "    \n",
        "    # Apply crossover to the selected parents with a probability of crossover\n",
        "    child = crossover(parent1, parent2, ga_probability_of_crossover)\n",
        "    \n",
        "    # Apply mutation to the child with a probability of mutation\n",
        "    child = mutation(child, ga_probability_of_mutation)\n",
        "\n",
        "    # Append the child to the new population\n",
        "    new_population = np.vstack((new_population, child))\n",
        "  \n",
        "  # Trim the new population to the desired size\n",
        "  new_population = new_population[:ga_population_size, :]\n",
        "\n",
        "  fitness_values,wg = evaluate_fitness(new_population,weights_of_items,costs_of_items,knapsack_weight_limit)\n",
        "  \n",
        "  # Update the history with the best solution from the new population\n",
        "  best_solution_index = np.argmax(fitness_values)\n",
        "  best_solution = new_population[best_solution_index, :]\n",
        "  best_weight = calculate_total_weight(best_solution)\n",
        "\n",
        "  history.append({\n",
        "    'generation': i+1,\n",
        "    'best_solution': best_solution,\n",
        "    'best_cost': calculate_total_cost(best_solution),\n",
        "    'best_weight': best_weight,\n",
        "    'min_weight':np.min(wg),\n",
        "    'max_weight': np.max(wg),\n",
        "    'min_cost': np.min(fitness_values),   \n",
        "  })\n",
        "\n"
      ]
    },
    {
      "cell_type": "code",
      "source": [
        "# dict1 = history[0]\n",
        "# dict1"
      ],
      "metadata": {
        "colab": {
          "base_uri": "https://localhost:8080/"
        },
        "id": "GyRbECWJNFcs",
        "outputId": "565e2304-88bb-45c1-aaa3-4c7307715704"
      },
      "execution_count": 95,
      "outputs": [
        {
          "output_type": "execute_result",
          "data": {
            "text/plain": [
              "{'generation': 0,\n",
              " 'best_solution': array([1., 0., 0., 0., 0., 0., 0., 1., 0., 0., 0., 0., 1., 0., 0., 1., 0.,\n",
              "        0., 0., 0., 0., 1., 0., 0., 0., 0., 0., 0., 0., 0., 0., 0., 0., 0.,\n",
              "        1., 0., 1., 0., 0., 0., 0., 1., 1., 0., 0., 0., 0., 0., 0., 0., 0.,\n",
              "        0., 0., 0., 0., 0., 0., 0., 0., 1., 0., 0., 0., 0.]),\n",
              " 'best_cost': 683.0,\n",
              " 'best_weight': 46.6,\n",
              " 'min_weight': 8.4,\n",
              " 'max_weight': 70.5,\n",
              " 'min_cost': 41.0}"
            ]
          },
          "metadata": {},
          "execution_count": 95
        }
      ]
    },
    {
      "cell_type": "markdown",
      "metadata": {
        "id": "Ju-MJosWZiVP"
      },
      "source": [
        "#### Print following data\n",
        "\n",
        "```generation, best cost, min_cost, best weight, min_weight, max weight``` for all generations.\n",
        "\n",
        "#### Plot following graphs\n",
        "\n",
        "1.  **cost, min_cost** with respect to generation number\n",
        "2.   **max weight, best weight, min_weight** with respect to generation number\n"
      ]
    },
    {
      "cell_type": "code",
      "source": [
        "# printing the following data generation, best cost, min_cost, best weight, min_weight, max weight for all generations.\n",
        "print(\"    cost   weight  cost   weight  weight\")\n",
        "print(\" #  best    best   min     max    min\")\n",
        "gen,cost,min_cost,max_weight,min_weight,best_weight= [],[],[],[],[],[]\n",
        "for dic in history:\n",
        "  gen.append(dic['generation'])\n",
        "  cost.append(dic['best_cost'])\n",
        "  min_cost.append(dic['min_cost'])\n",
        "  max_weight.append(dic['max_weight'])\n",
        "  min_weight.append(dic['min_weight'])\n",
        "  best_weight.append(dic['best_weight'])\n",
        "  print(\"\\n\",dic['generation'],\" \",dic['best_cost'],\" \",dic['best_weight'],\" \",dic['min_cost'],\" \",dic['max_weight'],\" \",dic['min_weight'])\n"
      ],
      "metadata": {
        "colab": {
          "base_uri": "https://localhost:8080/"
        },
        "id": "XLvQEC-ua9Ve",
        "outputId": "cfa0599e-74e0-4f8f-9570-015014f20297"
      },
      "execution_count": 132,
      "outputs": [
        {
          "output_type": "stream",
          "name": "stdout",
          "text": [
            "    cost   weight  cost   weight  weight\n",
            " #  best    best   min     max    min\n",
            "\n",
            " 0   683.0   46.6   41.0   70.5   8.4\n",
            "\n",
            " 1   920.0   90.2   82.0   90.2   8.4\n",
            "\n",
            " 2   683.0   46.6   31.0   79.5   8.4\n",
            "\n",
            " 3   683.0   46.6   41.0   59.4   12.3\n",
            "\n",
            " 4   683.0   46.6   41.0   70.5   11.6\n",
            "\n",
            " 5   577.0   69.5   51.0   70.5   8.8\n",
            "\n",
            " 6   715.0   59.5   77.0   59.5   8.4\n",
            "\n",
            " 7   683.0   46.6   82.0   73.3   11.6\n",
            "\n",
            " 8   683.0   46.6   57.0   70.5   11.6\n",
            "\n",
            " 9   535.0   48.4   79.0   70.5   16.0\n",
            "\n",
            " 10   683.0   46.6   41.0   59.4   8.4\n",
            "\n",
            " 11   719.0   62.9   58.0   70.5   12.3\n",
            "\n",
            " 12   683.0   46.6   74.0   78.3   8.4\n",
            "\n",
            " 13   683.0   46.6   41.0   70.5   12.3\n",
            "\n",
            " 14   693.0   42.7   41.0   56.6   5.8\n",
            "\n",
            " 15   610.0   63.1   41.0   73.7   8.4\n",
            "\n",
            " 16   683.0   46.6   41.0   70.5   8.4\n",
            "\n",
            " 17   683.0   46.6   79.0   63.1   12.3\n",
            "\n",
            " 18   692.0   66.8   41.0   83.2   7.7\n",
            "\n",
            " 19   683.0   46.6   101.0   70.5   9.7\n",
            "\n",
            " 20   683.0   46.6   82.0   59.4   10.3\n",
            "\n",
            " 21   610.0   63.1   20.0   63.1   6.3\n",
            "\n",
            " 22   683.0   46.6   77.0   70.5   8.4\n",
            "\n",
            " 23   683.0   46.6   56.0   70.5   8.7\n",
            "\n",
            " 24   509.0   22.4   41.0   58.8   12.8\n",
            "\n",
            " 25   683.0   46.6   77.0   63.1   7.6\n",
            "\n",
            " 26   610.0   63.1   47.0   63.1   6.0\n",
            "\n",
            " 27   509.0   22.4   79.0   70.5   8.4\n",
            "\n",
            " 28   683.0   46.6   47.0   59.4   8.4\n",
            "\n",
            " 29   610.0   63.1   57.0   70.5   7.9\n",
            "\n",
            " 30   683.0   46.6   41.0   76.5   8.4\n",
            "\n",
            " 31   683.0   46.6   73.0   63.1   9.7\n",
            "\n",
            " 32   610.0   63.1   62.0   63.4   7.2\n",
            "\n",
            " 33   683.0   46.6   77.0   70.5   3.1\n",
            "\n",
            " 34   683.0   46.6   41.0   70.5   8.4\n",
            "\n",
            " 35   568.0   22.3   41.0   62.4   8.4\n",
            "\n",
            " 36   683.0   46.6   41.0   63.1   5.8\n",
            "\n",
            " 37   649.0   70.1   14.0   70.5   5.9\n",
            "\n",
            " 38   610.0   63.1   70.0   70.5   8.4\n",
            "\n",
            " 39   683.0   46.6   79.0   70.5   8.8\n",
            "\n",
            " 40   611.0   70.6   26.0   70.6   8.4\n",
            "\n",
            " 41   579.0   66.3   51.0   81.6   4.7\n",
            "\n",
            " 42   610.0   63.1   41.0   70.5   11.6\n",
            "\n",
            " 43   683.0   46.6   41.0   73.2   8.4\n",
            "\n",
            " 44   632.0   41.7   60.0   70.5   11.2\n",
            "\n",
            " 45   683.0   46.6   77.0   67.5   8.4\n",
            "\n",
            " 46   610.0   63.1   41.0   63.1   7.4\n",
            "\n",
            " 47   526.0   60.1   76.0   60.1   11.6\n",
            "\n",
            " 48   683.0   46.6   77.0   70.5   12.3\n",
            "\n",
            " 49   683.0   46.6   82.0   70.5   8.4\n",
            "\n",
            " 50   683.0   46.6   77.0   89.2   11.6\n",
            "\n",
            " 51   687.0   38.8   63.0   70.5   11.6\n",
            "\n",
            " 52   778.0   57.8   79.0   63.8   12.3\n",
            "\n",
            " 53   738.0   74.0   41.0   74.0   8.4\n",
            "\n",
            " 54   683.0   46.6   77.0   70.5   10.1\n",
            "\n",
            " 55   583.0   64.7   40.0   70.5   8.8\n",
            "\n",
            " 56   683.0   46.6   31.0   70.5   8.4\n",
            "\n",
            " 57   622.0   65.3   43.0   65.3   8.4\n",
            "\n",
            " 58   535.0   48.4   41.0   78.6   8.4\n",
            "\n",
            " 59   610.0   63.1   60.0   70.5   12.3\n",
            "\n",
            " 60   683.0   46.6   41.0   62.1   8.4\n",
            "\n",
            " 61   685.0   36.5   20.0   70.5   6.2\n",
            "\n",
            " 62   683.0   46.6   60.0   70.5   8.4\n",
            "\n",
            " 63   876.0   66.8   77.0   84.2   8.1\n",
            "\n",
            " 64   677.0   44.3   51.0   63.1   7.1\n",
            "\n",
            " 65   683.0   46.6   41.0   68.0   11.2\n",
            "\n",
            " 66   683.0   46.6   41.0   66.4   11.6\n",
            "\n",
            " 67   683.0   46.6   47.0   60.1   7.2\n",
            "\n",
            " 68   683.0   46.6   41.0   63.1   8.4\n",
            "\n",
            " 69   683.0   46.6   77.0   63.1   8.4\n",
            "\n",
            " 70   683.0   46.6   41.0   70.5   8.1\n",
            "\n",
            " 71   526.0   60.1   41.0   70.5   12.8\n",
            "\n",
            " 72   679.0   78.3   41.0   78.3   11.6\n",
            "\n",
            " 73   683.0   46.6   0.0   70.5   0.0\n",
            "\n",
            " 74   709.0   50.7   1.0   59.4   7.5\n",
            "\n",
            " 75   776.0   56.0   82.0   70.5   8.4\n",
            "\n",
            " 76   526.0   60.1   41.0   70.5   8.4\n",
            "\n",
            " 77   683.0   46.6   41.0   70.5   8.4\n",
            "\n",
            " 78   683.0   46.6   20.0   63.1   6.3\n",
            "\n",
            " 79   683.0   46.6   75.0   78.5   11.6\n",
            "\n",
            " 80   535.0   48.4   50.0   63.6   8.4\n",
            "\n",
            " 81   683.0   46.6   63.0   70.6   10.3\n",
            "\n",
            " 82   683.0   46.6   91.0   70.1   10.2\n",
            "\n",
            " 83   683.0   46.6   76.0   67.7   12.3\n",
            "\n",
            " 84   781.0   78.2   44.0   78.2   6.8\n",
            "\n",
            " 85   624.0   59.0   101.0   71.7   8.4\n",
            "\n",
            " 86   638.0   65.2   74.0   70.5   8.4\n",
            "\n",
            " 87   652.0   43.9   79.0   63.1   8.4\n",
            "\n",
            " 88   683.0   46.6   37.0   70.5   12.3\n",
            "\n",
            " 89   535.0   48.4   101.0   70.5   10.2\n",
            "\n",
            " 90   683.0   46.6   36.0   63.1   8.4\n",
            "\n",
            " 91   683.0   46.6   41.0   70.5   12.8\n",
            "\n",
            " 92   590.0   81.2   77.0   81.2   8.4\n",
            "\n",
            " 93   610.0   63.1   41.0   70.5   11.6\n",
            "\n",
            " 94   683.0   46.6   101.0   70.5   3.1\n",
            "\n",
            " 95   683.0   46.6   41.0   70.5   8.4\n",
            "\n",
            " 96   618.0   59.4   41.0   74.2   7.1\n",
            "\n",
            " 97   636.0   54.0   71.0   70.5   11.6\n",
            "\n",
            " 98   683.0   46.6   41.0   64.8   8.4\n",
            "\n",
            " 99   737.0   54.0   41.0   76.5   8.4\n",
            "\n",
            " 100   683.0   46.6   62.0   73.0   8.8\n"
          ]
        }
      ]
    },
    {
      "cell_type": "code",
      "source": [
        "import matplotlib.pyplot as plt\n",
        "\n",
        "#ploting the graph - 1.cost, min_cost with respect to generation number\n",
        "plt.figure(figsize=(8, 6))\n",
        "plt.plot(gen, cost, label='best cost')\n",
        "plt.plot(gen, min_cost, label='min cost')\n",
        "plt.legend()\n",
        "\n"
      ],
      "metadata": {
        "colab": {
          "base_uri": "https://localhost:8080/",
          "height": 392
        },
        "id": "4cHl3qXXrSP_",
        "outputId": "802261d6-5de4-4e56-8b9d-e13351d73082"
      },
      "execution_count": 113,
      "outputs": [
        {
          "output_type": "execute_result",
          "data": {
            "text/plain": [
              "<matplotlib.legend.Legend at 0x7f3a075c29a0>"
            ]
          },
          "metadata": {},
          "execution_count": 113
        },
        {
          "output_type": "display_data",
          "data": {
            "text/plain": [
              "<Figure size 576x432 with 1 Axes>"
            ],
            "image/png": "[encoded data removed]"
          },
          "metadata": {
            "needs_background": "light"
          }
        }
      ]
    },
    {
      "cell_type": "code",
      "source": [
        "#ploting the graph - 2.max weight, best weight, min_weight with respect to generation number\n",
        "plt.figure(figsize=(8, 6))\n",
        "plt.plot(gen, best_weight, label='best weight')\n",
        "plt.plot(gen, max_weight, label='max weight')\n",
        "plt.plot(gen, min_weight, label='min weight')\n",
        "plt.legend()"
      ],
      "metadata": {
        "colab": {
          "base_uri": "https://localhost:8080/",
          "height": 392
        },
        "id": "SycWtyQPupAE",
        "outputId": "a9a62dda-3732-4468-ab3e-54384dd5f8c0"
      },
      "execution_count": 115,
      "outputs": [
        {
          "output_type": "execute_result",
          "data": {
            "text/plain": [
              "<matplotlib.legend.Legend at 0x7f3a075d9580>"
            ]
          },
          "metadata": {},
          "execution_count": 115
        },
        {
          "output_type": "display_data",
          "data": {
            "text/plain": [
              "<Figure size 576x432 with 1 Axes>"
            ],
            "image/png": "[encoded data removed]"
          },
          "metadata": {
            "needs_background": "light"
          }
        }
      ]
    },
    {
      "cell_type": "markdown",
      "metadata": {
        "id": "WVW-XgsmFybg"
      },
      "source": [
        "# Task 2 Particle Swarm optimization\n",
        "\n",
        "Implement Particle swarm optimization algorithm and find the global minimum of the Rosenbrock's banana function."
      ]
    },
    {
      "cell_type": "code",
      "execution_count": 126,
      "metadata": {
        "id": "OvH_8HZbI2pv"
      },
      "outputs": [],
      "source": [
        "# Example\n",
        "def banana(xx):\n",
        "  x = xx[0]\n",
        "  y = xx[1]\n",
        "  return x**4 - 2*y*x**2 + y**2 + x**2 - 2*x + 5\n",
        "\n",
        "# limits for searching solution\n",
        "lower_bound = [-5, -5]\n",
        "upper_bound = [5, 5]\n"
      ]
    },
    {
      "cell_type": "markdown",
      "metadata": {
        "id": "O8MjmWeEIpa2"
      },
      "source": [
        "Define python function\n",
        "```python\n",
        "def lab6-pso(objective, l_bound, u_bound,\n",
        "       swarmsize, dimension, \n",
        "       iterations=100, omega=0.5, phip=0.5, phig=0.5):\n",
        "       return [best_global, obj_global]\n",
        "```\n",
        "Function arguments:\n",
        "\n",
        "*   **objective** is the objective function, i.e. the banana function for us (see above)\n",
        "*   **l_bound** - lower bound of the area for searching a solution\n",
        "*   **u_bound** - upper bound of the area for searching a solution\n",
        "*   **swarmsize** - number of particles in the swarm\n",
        "*   **dimension** - the dimension of the searching space. Banana function is a function of two variables so that each particle is a two dimensional vector [x, y].\n",
        "*   **interations** - a stop criterion of the algorithm, which will stop the algorithm after certain number of iterations \n",
        "*   **omega** - $\\omega$ parameter of the algorithm\n",
        "*   **phip** - $\\phi_p$ parameter of the algorithm \n",
        "*   **phig** - $\\phi_g$ parameter of the algorithm\n",
        "\n",
        "### PSO Algorithm\n",
        "\n",
        "1. **Initialize the swarm.** The swarm is an numpy array of shape ( $N_S, N_D$ ) of np.float64 data type. $N_S$ is swarmsize and $N_D = 2$ is the dimension of the position of the particle. Position of each particle is initialized randomly from uniform distribution within the area given by lower and upper bounds, i.e. a position of the particle (solution) is a vector $[x, y]$ where $x \\in <-5.0,5.0>$ and $y \\in <-5.0, 5.0>$.\n",
        "\n",
        "2. **Set best_local variable for each particle.**\n",
        "In this place it is a simple deep copy  of the swarm numpy matrix (swarm.copy()). \n",
        "\n",
        "3. **Evaluate the objective function for all particles in the swarm.** Simply said, call the objective function for each row in the swarm matrix and store them in the obj_local array (local best objective values).\n",
        "\n",
        "4. **Find the index $i$ of minimum of the objective value in the array**, i.e. get the best solution of the swarm. Perform deep copy of the row at index $i$ to variable best_global and assign the objective value at index $i$ to variable obj_global. Both variables represent best global solution for the swarm. **Hint:** use the numpy.argmin function\n",
        "\n",
        "5. **Initialize the velocity matrix $v_t$** for $t=-1$. This is a  numpy matrix of the shape of $(N_S, N_D)$ where $N_S$ and the type of numpy.float64\n",
        "6. **Prepare the loop for all iterations.**. The loop body starts.\n",
        "\n",
        ">> 6-1. **Generate random number matrixes** ${\\bf r}_p \\in <0,1>^{N_SN_D}$ and ${\\bf r}_p \\in <0,1>^{N_SN_D}$. \n",
        "\n",
        ">> 6-2. **Calculate velocities and positions of particles.** The particle velocity is given by equation\n",
        "$${\\bf v}_t=\\omega {\\bf v}_{t-1} + \\phi_p{\\bf r}_p(p_{\\text{best}} - {\\bf x}_t) + \\phi_g{\\bf r}_g(g_{\\text{best}} - {\\bf x}_t)\n",
        "$$\n",
        "where $p_{\\text{best}}$ is the particle best solution (position), $g_{\\text{best}}$ is the global best solution (position) and ${\\bf x}_t$. The position of the particle is updated by\n",
        "$$\n",
        "  {\\bf x}_{t+1}={\\bf x}_t + {\\bf v}_t\n",
        "$$\n",
        "\n",
        ">> 6-3. **Calculate objective function** for all particles and store them in the numpy array. Compare current objective values to values in the obj_local array. If new objective value is less than previously stored objective local value, update the obj_local array and also store new best_local position for the particle.\n",
        "\n",
        ">> 6-4. **Find the index $i$ of minimum of the objective value in the array**, i.e. get the best solution of the swarm. If the minimum value is less than previously stored (in obj_global) perform deep copy of the row at index $i$ to variable best_global and assign the objective value at index $i$ to variable obj_global. Both variables represent best global solution for the swarm. **Hint:** use the numpy.argmin function.\n",
        "\n",
        ">> 6-5. **Continue at point 6-1**, until the total number of iterations is reached.\n",
        "\n",
        "7. **Return the best solution** (position and objective)\n"
      ]
    },
    {
      "cell_type": "code",
      "execution_count": 138,
      "metadata": {
        "id": "RVkLuWTn2RSC"
      },
      "outputs": [],
      "source": [
        "# Write your code here\n",
        "\n",
        "def lab6_pso(objective, l_bound, u_bound, swarmsize, dimension, iterations=100, omega=0.5, phip=0.5, phig=0.5):\n",
        "    # Initialize the swarm\n",
        "    swarm = np.random.uniform(low=l_bound, high=u_bound, size=(swarmsize, dimension))\n",
        "    best_local = swarm.copy()\n",
        "    # Evaluate the objective function for all particles in the swarm\n",
        "    obj_local = np.array([objective(particle) for particle in swarm])\n",
        "    # Find the index of the minimum objective value and store it as the best global solution\n",
        "    i = np.argmin(obj_local)\n",
        "    best_global = swarm[i]\n",
        "    obj_global = obj_local[i]\n",
        "    # Initialize the velocity matrix\n",
        "    v_t = np.zeros((swarmsize, dimension))\n",
        "    # Perform the loop for all iterations\n",
        "    for t in range(iterations):\n",
        "        # Generate random number matrices\n",
        "        r_p = np.random.random((swarmsize, dimension))\n",
        "        r_g = np.random.random((swarmsize, dimension))\n",
        "        # Calculate and update velocities and positions of particles\n",
        "        v_t = omega * v_t + phip * r_p * (best_local - swarm) + phig * r_g * (best_global - swarm)\n",
        "        swarm = swarm + v_t\n",
        "        # Calculate the objective function for all particles and update the best local and global solutions\n",
        "        obj_swarm = np.array([objective(particle) for particle in swarm])\n",
        "        update = obj_swarm < obj_local\n",
        "        obj_local[update] = obj_swarm[update]\n",
        "        best_local[update] = swarm[update]\n",
        "        i = np.argmin(obj_local)\n",
        "        if obj_local[i] < obj_global:\n",
        "            best_global = swarm[i]\n",
        "            obj_global = obj_local[i]\n",
        "        print(obj_global)\n",
        "    # Return the best global solution and the objective value of the best global solution\n",
        "    return [best_global, obj_global]"
      ]
    },
    {
      "cell_type": "markdown",
      "metadata": {
        "id": "0kAqYTqCIlGF"
      },
      "source": [
        "Run the PSO algorithm and print the best solution."
      ]
    },
    {
      "cell_type": "code",
      "source": [
        "best_solution, best_obj_value = lab6_pso(objective=banana, l_bound=-5.0, u_bound=5.0, swarmsize=10, dimension=2)\n",
        "print('Best Position',best_solution)\n",
        "print('Best Object Value',best_obj_value)"
      ],
      "metadata": {
        "colab": {
          "base_uri": "https://localhost:8080/"
        },
        "id": "RjoqB7EfCR4H",
        "outputId": "d68a1497-935e-4d9d-cd91-29cd8535d4c4"
      },
      "execution_count": 139,
      "outputs": [
        {
          "output_type": "stream",
          "name": "stdout",
          "text": [
            "5.479022876679479\n",
            "4.295257917244144\n",
            "4.295257917244144\n",
            "4.033490957028448\n",
            "4.033490957028448\n",
            "4.0320890616533775\n",
            "4.015122034852849\n",
            "4.0037944835434\n",
            "4.002435065485077\n",
            "4.000062666417918\n",
            "4.000062666417918\n",
            "4.0000575890746575\n",
            "4.0000575890746575\n",
            "4.0000575890746575\n",
            "4.0000575890746575\n",
            "4.0000575890746575\n",
            "4.0000097993699315\n",
            "4.0000097993699315\n",
            "4.000007896966247\n",
            "4.000004717696308\n",
            "4.000000768145382\n",
            "4.0000003852783\n",
            "4.000000112982654\n",
            "4.0000000771450654\n",
            "4.0000000771450654\n",
            "4.000000046786298\n",
            "4.000000012409615\n",
            "4.000000008419188\n",
            "4.000000008419188\n",
            "4.000000000925112\n",
            "4.000000000925112\n",
            "4.000000000416515\n",
            "4.000000000416515\n",
            "4.0000000001415\n",
            "4.000000000035758\n",
            "4.000000000035758\n",
            "4.000000000035758\n",
            "4.000000000012334\n",
            "4.000000000012334\n",
            "4.0000000000115055\n",
            "4.0000000000115055\n",
            "4.000000000000757\n",
            "4.000000000000757\n",
            "4.000000000000757\n",
            "4.000000000000099\n",
            "4.000000000000045\n",
            "4.000000000000045\n",
            "4.000000000000011\n",
            "4.000000000000011\n",
            "4.000000000000011\n",
            "4.000000000000011\n",
            "4.000000000000005\n",
            "4.000000000000002\n",
            "4.0\n",
            "4.0\n",
            "4.0\n",
            "4.0\n",
            "4.0\n",
            "4.0\n",
            "4.0\n",
            "4.0\n",
            "4.0\n",
            "4.0\n",
            "4.0\n",
            "4.0\n",
            "4.0\n",
            "4.0\n",
            "4.0\n",
            "4.0\n",
            "4.0\n",
            "4.0\n",
            "4.0\n",
            "4.0\n",
            "4.0\n",
            "4.0\n",
            "4.0\n",
            "4.0\n",
            "4.0\n",
            "4.0\n",
            "4.0\n",
            "4.0\n",
            "4.0\n",
            "4.0\n",
            "4.0\n",
            "4.0\n",
            "4.0\n",
            "4.0\n",
            "4.0\n",
            "4.0\n",
            "4.0\n",
            "4.0\n",
            "4.0\n",
            "4.0\n",
            "4.0\n",
            "4.0\n",
            "4.0\n",
            "4.0\n",
            "4.0\n",
            "4.0\n",
            "4.0\n",
            "Best Position [1.00000001 1.00000001]\n",
            "Best Object Value 4.0\n"
          ]
        }
      ]
    },
    {
      "cell_type": "markdown",
      "metadata": {
        "id": "i5GRTnFu4J8q"
      },
      "source": [
        "## Subtask 1\n",
        "\n",
        "Use pyswarm package for the same task.\n",
        "\n",
        "**Hint:** Do not use constraints. \n",
        "\n",
        "\n"
      ]
    },
    {
      "cell_type": "code",
      "execution_count": 123,
      "metadata": {
        "colab": {
          "base_uri": "https://localhost:8080/"
        },
        "id": "kFfJasnP-6QP",
        "outputId": "04f3829d-c4e8-43ea-9eb4-207f202617d7",
        "scrolled": true
      },
      "outputs": [
        {
          "output_type": "stream",
          "name": "stdout",
          "text": [
            "Looking in indexes: https://pypi.org/simple, https://us-python.pkg.dev/colab-wheels/public/simple/\n",
            "Collecting pyswarm\n",
            "  Downloading pyswarm-0.6.tar.gz (4.3 kB)\n",
            "Requirement already satisfied: numpy in /usr/local/lib/python3.8/dist-packages (from pyswarm) (1.21.6)\n",
            "Building wheels for collected packages: pyswarm\n",
            "  Building wheel for pyswarm (setup.py) ... \u001b[?25l\u001b[?25hdone\n",
            "  Created wheel for pyswarm: filename=pyswarm-0.6-py3-none-any.whl size=4480 sha256=10ca03364b1c0ca09f8f3f5ea74146395070c5dcd533650666ba997acbd32335\n",
            "  Stored in directory: /root/.cache/pip/wheels/3b/48/7f/a9f4beb272837304aa8e55fda9c9b4243d23517d5b1349b052\n",
            "Successfully built pyswarm\n",
            "Installing collected packages: pyswarm\n",
            "Successfully installed pyswarm-0.6\n"
          ]
        }
      ],
      "source": [
        "# Example\n",
        "!pip install pyswarm\n",
        "import pyswarm\n",
        "from pyswarm import pso"
      ]
    },
    {
      "cell_type": "code",
      "source": [
        "lb = [-5, -5]\n",
        "ub = [5, 5]\n",
        "best_solution, best_obj_value = pyswarm.pso(banana, lb, ub)\n",
        "\n",
        "print('Solution',best_solution)\n",
        "print('Objective',best_obj_value)"
      ],
      "metadata": {
        "colab": {
          "base_uri": "https://localhost:8080/"
        },
        "id": "ZUrkJWr9Cw-Y",
        "outputId": "2c276a80-78cc-49cf-8fe0-41717fabbd56"
      },
      "execution_count": 140,
      "outputs": [
        {
          "output_type": "stream",
          "name": "stdout",
          "text": [
            "Stopping search: Swarm best objective change less than 1e-08\n",
            "Solution [1.00016916 1.00062138]\n",
            "Objective 4.000000108722768\n"
          ]
        }
      ]
    },
    {
      "cell_type": "code",
      "source": [],
      "metadata": {
        "id": "1qR-rAwAC0vY"
      },
      "execution_count": 140,
      "outputs": []
    }
  ],
  "metadata": {
    "colab": {
      "collapsed_sections": [
        "hfI6N1bII-gE",
        "xhwT3O6SwOjU",
        "YwW-niumx5wN",
        "jDe93NMB5kzO",
        "LrdcJ7yZ3wVS",
        "mdhnoIMqBzyO",
        "r86kz1V8YIR_",
        "SeQJSHSWUR9x",
        "VVmTQ47lt6Kd",
        "uiffO4xRAD4Y",
        "Ju-MJosWZiVP"
      ],
      "provenance": []
    },
    "kernelspec": {
      "display_name": "Python 3 (ipykernel)",
      "language": "python",
      "name": "python3"
    },
    "language_info": {
      "codemirror_mode": {
        "name": "ipython",
        "version": 3
      },
      "file_extension": ".py",
      "mimetype": "text/x-python",
      "name": "python",
      "nbconvert_exporter": "python",
      "pygments_lexer": "ipython3",
      "version": "3.7.7"
    }
  },
  "nbformat": 4,
  "nbformat_minor": 0
}