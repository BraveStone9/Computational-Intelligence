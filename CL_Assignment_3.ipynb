{
  "nbformat": 4,
  "nbformat_minor": 0,
  "metadata": {
    "colab": {
      "provenance": [],
      "collapsed_sections": []
    },
    "kernelspec": {
      "name": "python3",
      "display_name": "Python 3"
    },
    "language_info": {
      "name": "python"
    }
  },
  "cells": [
    {
      "cell_type": "markdown",
      "source": [
        "# Task 1\n",
        "\n",
        "Extract a subset of traning samples from the MNIST handwriten signatures. Create a small convolution neural network with two convolution layers, two pool layers, flatten, dense layer and softmax layer to classify the images. Find out classification error for learning set and testing set.\n",
        "\n"
      ],
      "metadata": {
        "id": "uGHCiLHJ6GWg"
      }
    },
    {
      "cell_type": "code",
      "source": [
        "import tensorflow as tf\n",
        "import numpy as np\n",
        "import pandas as pd\n",
        "from keras.utils import load_img\n",
        "from keras.utils import img_to_array\n",
        "from keras.datasets import mnist\n",
        "from keras.utils import to_categorical\n",
        "from keras.preprocessing.image import ImageDataGenerator\n",
        "import matplotlib.pyplot as plt\n",
        "# from keras.models import Sequential, Model\n",
        "# from keras.layers import Conv2D, MaxPooling2D, Flatten, Dense, Conv2DTranspose, Input\n",
        "from keras import layers\n",
        "from keras import models"
      ],
      "metadata": {
        "id": "1vaJdqKz-T3B"
      },
      "execution_count": 2,
      "outputs": []
    },
    {
      "cell_type": "code",
      "source": [
        "# write yout code\n",
        "(train_images, train_labels), (test_images, test_labels) = mnist.load_data()\n",
        "print(train_images.shape, train_labels.shape, test_images.shape, test_labels.shape)\n"
      ],
      "metadata": {
        "id": "xC7DG8Ag7i0I",
        "colab": {
          "base_uri": "https://localhost:8080/"
        },
        "outputId": "e4a71e39-2aab-43d6-dee0-6bb8ca5ac3e1"
      },
      "execution_count": 2,
      "outputs": [
        {
          "output_type": "stream",
          "name": "stdout",
          "text": [
            "(60000, 28, 28) (60000,) (10000, 28, 28) (10000,)\n"
          ]
        }
      ]
    },
    {
      "cell_type": "code",
      "source": [
        "train_images = train_images[:10000]\n",
        "train_labels = train_labels[:10000]\n",
        "test_images = test_images[:1000]\n",
        "test_labels = test_labels[:1000]"
      ],
      "metadata": {
        "id": "SauDqnmqJ8sj"
      },
      "execution_count": 3,
      "outputs": []
    },
    {
      "cell_type": "code",
      "source": [
        "train_images = train_images.reshape([-1,28,28,1])\n",
        "train_images = train_images.astype('float32')/255\n",
        "\n",
        "test_images = test_images.reshape([-1,28,28,1])\n",
        "test_images = test_images.astype('float32')/255\n",
        "\n",
        "train_labels = to_categorical(train_labels)\n",
        "test_labels = to_categorical(test_labels)\n",
        "\n",
        "print(\"After Splicing and Normalizing\", train_images.shape, train_labels.shape, test_images.shape, test_labels.shape)"
      ],
      "metadata": {
        "colab": {
          "base_uri": "https://localhost:8080/"
        },
        "id": "ALhdQDcL_xYC",
        "outputId": "7f39b088-ff16-46ed-9cb3-c40358edce98"
      },
      "execution_count": 4,
      "outputs": [
        {
          "output_type": "stream",
          "name": "stdout",
          "text": [
            "After Splicing and Normalizing (10000, 28, 28, 1) (10000, 10) (1000, 28, 28, 1) (1000, 10)\n"
          ]
        }
      ]
    },
    {
      "cell_type": "code",
      "source": [
        "model = models.Sequential()\n",
        "model.add(layers.Conv2D(32,kernel_size=3, activation='relu', input_shape = (28,28,1)))\n",
        "model.add(layers.MaxPooling2D((2,2)))\n",
        "\n",
        "model.add(layers.Conv2D(32,kernel_size=3, activation='relu'))\n",
        "model.add(layers.MaxPooling2D((2,2)))\n",
        "model.add(layers.Flatten())\n",
        "model.add(layers.Dense(10, activation= 'softmax'))\n",
        "\n",
        "model.compile(optimizer = 'adam',loss = 'categorical_crossentropy', metrics = ['accuracy'])\n",
        "history = model.fit(train_images, train_labels, epochs = 8,validation_split=0.1)\n"
      ],
      "metadata": {
        "colab": {
          "base_uri": "https://localhost:8080/"
        },
        "id": "_HD4_mre_3z0",
        "outputId": "42f0fd8c-ec34-4cd2-b40d-11c9499cc07b"
      },
      "execution_count": 5,
      "outputs": [
        {
          "output_type": "stream",
          "name": "stdout",
          "text": [
            "Epoch 1/8\n",
            "282/282 [==============================] - 17s 58ms/step - loss: 0.5745 - accuracy: 0.8340 - val_loss: 0.2005 - val_accuracy: 0.9360\n",
            "Epoch 2/8\n",
            "282/282 [==============================] - 12s 42ms/step - loss: 0.1732 - accuracy: 0.9504 - val_loss: 0.1440 - val_accuracy: 0.9520\n",
            "Epoch 3/8\n",
            "282/282 [==============================] - 8s 28ms/step - loss: 0.1192 - accuracy: 0.9637 - val_loss: 0.1083 - val_accuracy: 0.9650\n",
            "Epoch 4/8\n",
            "282/282 [==============================] - 8s 29ms/step - loss: 0.0963 - accuracy: 0.9719 - val_loss: 0.1280 - val_accuracy: 0.9620\n",
            "Epoch 5/8\n",
            "282/282 [==============================] - 8s 28ms/step - loss: 0.0762 - accuracy: 0.9773 - val_loss: 0.1118 - val_accuracy: 0.9640\n",
            "Epoch 6/8\n",
            "282/282 [==============================] - 8s 28ms/step - loss: 0.0614 - accuracy: 0.9817 - val_loss: 0.0777 - val_accuracy: 0.9840\n",
            "Epoch 7/8\n",
            "282/282 [==============================] - 8s 28ms/step - loss: 0.0540 - accuracy: 0.9829 - val_loss: 0.0863 - val_accuracy: 0.9820\n",
            "Epoch 8/8\n",
            "282/282 [==============================] - 8s 29ms/step - loss: 0.0475 - accuracy: 0.9843 - val_loss: 0.0760 - val_accuracy: 0.9790\n"
          ]
        }
      ]
    },
    {
      "cell_type": "code",
      "source": [
        "model.summary()"
      ],
      "metadata": {
        "colab": {
          "base_uri": "https://localhost:8080/"
        },
        "id": "g7v_ao4nLq4L",
        "outputId": "fdbd4cd3-5d6a-4482-90eb-a62a55a2da0e"
      },
      "execution_count": 6,
      "outputs": [
        {
          "output_type": "stream",
          "name": "stdout",
          "text": [
            "Model: \"sequential\"\n",
            "_________________________________________________________________\n",
            " Layer (type)                Output Shape              Param #   \n",
            "=================================================================\n",
            " conv2d (Conv2D)             (None, 26, 26, 32)        320       \n",
            "                                                                 \n",
            " max_pooling2d (MaxPooling2D  (None, 13, 13, 32)       0         \n",
            " )                                                               \n",
            "                                                                 \n",
            " conv2d_1 (Conv2D)           (None, 11, 11, 32)        9248      \n",
            "                                                                 \n",
            " max_pooling2d_1 (MaxPooling  (None, 5, 5, 32)         0         \n",
            " 2D)                                                             \n",
            "                                                                 \n",
            " flatten (Flatten)           (None, 800)               0         \n",
            "                                                                 \n",
            " dense (Dense)               (None, 10)                8010      \n",
            "                                                                 \n",
            "=================================================================\n",
            "Total params: 17,578\n",
            "Trainable params: 17,578\n",
            "Non-trainable params: 0\n",
            "_________________________________________________________________\n"
          ]
        }
      ]
    },
    {
      "cell_type": "code",
      "source": [
        "print(\"Training loss:\", history.history['loss'][-1], \n",
        "      \"Training accuracy:\", history.history['accuracy'][-1])\n",
        "result = model.evaluate(test_images, test_labels)\n",
        "print(\"Testing loss:\", result[0], \"Testing accuracy:\", result[1])"
      ],
      "metadata": {
        "colab": {
          "base_uri": "https://localhost:8080/"
        },
        "id": "GjwLCVJBOEhc",
        "outputId": "d658a112-4164-40cf-aabd-7dd7f8770932"
      },
      "execution_count": 7,
      "outputs": [
        {
          "output_type": "stream",
          "name": "stdout",
          "text": [
            "Training loss: 0.047474440187215805 Training accuracy: 0.984333336353302\n",
            "32/32 [==============================] - 0s 10ms/step - loss: 0.0810 - accuracy: 0.9710\n",
            "Testing loss: 0.0810258537530899 Testing accuracy: 0.9710000157356262\n"
          ]
        }
      ]
    },
    {
      "cell_type": "markdown",
      "metadata": {
        "id": "wQPdK-QLnUGp"
      },
      "source": [
        "# Task 2\n",
        "\n",
        "Create an autoencoder for MNIST fashion dataset. The input and the output is the same image of a number 28x28 pixels.\n",
        "\n"
      ]
    },
    {
      "cell_type": "code",
      "source": [
        "import tensorflow as tf\n",
        "import numpy as np\n",
        "import numpy as np\n",
        "import pandas as pd\n",
        "import os\n",
        "import matplotlib.pyplot as plt\n",
        "from keras.layers import Input, Dense, Conv2D, MaxPooling2D, UpSampling2D, Conv2DTranspose\n",
        "from keras.models import Model\n",
        "from keras.preprocessing import image"
      ],
      "metadata": {
        "id": "WALgK2fhO3mQ"
      },
      "execution_count": 3,
      "outputs": []
    },
    {
      "cell_type": "code",
      "metadata": {
        "id": "mhlcVaeTfczu"
      },
      "source": [
        "\n",
        "fashion_mnist = tf.keras.datasets.fashion_mnist\n",
        "(train_images, train_labels), (test_images, test_labels) = fashion_mnist.load_data()"
      ],
      "execution_count": 4,
      "outputs": []
    },
    {
      "cell_type": "code",
      "source": [
        "print(\"Dataset\",train_images.shape, test_images.shape)\n"
      ],
      "metadata": {
        "colab": {
          "base_uri": "https://localhost:8080/"
        },
        "id": "vbg3Uik3PgSA",
        "outputId": "e93e11d0-767d-4d56-cff2-4d3eb61c231c"
      },
      "execution_count": 11,
      "outputs": [
        {
          "output_type": "stream",
          "name": "stdout",
          "text": [
            "Dataset (60000, 28, 28) (10000, 28, 28)\n"
          ]
        }
      ]
    },
    {
      "cell_type": "code",
      "source": [
        "train_images = train_images[:10000]\n",
        "test_images = test_images[:1000]\n",
        "\n",
        "train_images = train_images.astype('float32') / 255.\n",
        "test_images = test_images.astype('float32') / 255.\n",
        "\n",
        "train_images = train_images.reshape([-1, 28, 28, 1])\n",
        "test_images = test_images.reshape([-1, 28, 28, 1])\n",
        "print(\"After Splicing, Normalizing and Reshaping\", train_images.shape, test_images.shape)"
      ],
      "metadata": {
        "colab": {
          "base_uri": "https://localhost:8080/"
        },
        "id": "hnZSw50RPPlQ",
        "outputId": "ac93065d-1f4c-4e0c-ff69-f68ea499fb4d"
      },
      "execution_count": 12,
      "outputs": [
        {
          "output_type": "stream",
          "name": "stdout",
          "text": [
            "After Splicing, Normalizing and Reshaping (10000, 28, 28, 1) (1000, 28, 28, 1)\n"
          ]
        }
      ]
    },
    {
      "cell_type": "code",
      "source": [
        "# Encoder\n",
        "input = Input(shape=(28, 28, 1))\n",
        "x = Conv2D(32, (3, 3), activation=\"relu\", padding=\"same\", input_shape=(28,28,1))(input)\n",
        "x = MaxPooling2D((2, 2), padding=\"same\")(x)\n",
        "x = Conv2D(32, (3, 3), activation=\"relu\", padding=\"same\")(x)\n",
        "x = MaxPooling2D((2, 2), padding=\"same\")(x)\n",
        "\n",
        "# Decoder\n",
        "x = Conv2DTranspose(32, (3, 3), strides=2, activation=\"relu\", padding=\"same\")(x)\n",
        "x = Conv2DTranspose(32, (3, 3), strides=2, activation=\"relu\", padding=\"same\")(x)\n",
        "x = Conv2D(1, (3, 3), activation=\"sigmoid\", padding=\"same\")(x)\n",
        "\n",
        "# Autoencoder\n",
        "autoencoder = Model(input, x)\n",
        "autoencoder.compile(optimizer=\"adam\", loss=\"binary_crossentropy\")\n",
        "autoencoder.summary()\n",
        "history = autoencoder.fit(x = train_images, y = train_images, epochs = 8, validation_data = (test_images, test_images))\n",
        "predictions = autoencoder.predict(test_images)\n"
      ],
      "metadata": {
        "colab": {
          "base_uri": "https://localhost:8080/"
        },
        "id": "uGXrYp2hQq8f",
        "outputId": "195bab18-484b-40f1-828e-fbec07a90797"
      },
      "execution_count": 13,
      "outputs": [
        {
          "output_type": "stream",
          "name": "stdout",
          "text": [
            "Model: \"model\"\n",
            "_________________________________________________________________\n",
            " Layer (type)                Output Shape              Param #   \n",
            "=================================================================\n",
            " input_1 (InputLayer)        [(None, 28, 28, 1)]       0         \n",
            "                                                                 \n",
            " conv2d_2 (Conv2D)           (None, 28, 28, 32)        320       \n",
            "                                                                 \n",
            " max_pooling2d_2 (MaxPooling  (None, 14, 14, 32)       0         \n",
            " 2D)                                                             \n",
            "                                                                 \n",
            " conv2d_3 (Conv2D)           (None, 14, 14, 32)        9248      \n",
            "                                                                 \n",
            " max_pooling2d_3 (MaxPooling  (None, 7, 7, 32)         0         \n",
            " 2D)                                                             \n",
            "                                                                 \n",
            " conv2d_transpose (Conv2DTra  (None, 14, 14, 32)       9248      \n",
            " nspose)                                                         \n",
            "                                                                 \n",
            " conv2d_transpose_1 (Conv2DT  (None, 28, 28, 32)       9248      \n",
            " ranspose)                                                       \n",
            "                                                                 \n",
            " conv2d_4 (Conv2D)           (None, 28, 28, 1)         289       \n",
            "                                                                 \n",
            "=================================================================\n",
            "Total params: 28,353\n",
            "Trainable params: 28,353\n",
            "Non-trainable params: 0\n",
            "_________________________________________________________________\n",
            "Epoch 1/8\n",
            "313/313 [==============================] - 32s 101ms/step - loss: 0.3198 - val_loss: 0.2791\n",
            "Epoch 2/8\n",
            "313/313 [==============================] - 33s 107ms/step - loss: 0.2712 - val_loss: 0.2726\n",
            "Epoch 3/8\n",
            "313/313 [==============================] - 33s 105ms/step - loss: 0.2662 - val_loss: 0.2684\n",
            "Epoch 4/8\n",
            "313/313 [==============================] - 32s 101ms/step - loss: 0.2623 - val_loss: 0.2645\n",
            "Epoch 5/8\n",
            "313/313 [==============================] - 32s 103ms/step - loss: 0.2593 - val_loss: 0.2622\n",
            "Epoch 6/8\n",
            "313/313 [==============================] - 31s 99ms/step - loss: 0.2573 - val_loss: 0.2602\n",
            "Epoch 7/8\n",
            "313/313 [==============================] - 31s 100ms/step - loss: 0.2560 - val_loss: 0.2590\n",
            "Epoch 8/8\n",
            "313/313 [==============================] - 31s 99ms/step - loss: 0.2550 - val_loss: 0.2582\n",
            "32/32 [==============================] - 1s 25ms/step\n"
          ]
        }
      ]
    },
    {
      "cell_type": "code",
      "source": [
        "n = 10\n",
        "plt.figure(figsize=(20, 4))\n",
        "for i in range(n):\n",
        "    ax = plt.subplot(2, n, i + 1)\n",
        "    plt.imshow(test_images[i, :].reshape(28, 28))\n",
        "    plt.gray()\n",
        "    ax.get_xaxis().set_visible(False)\n",
        "    ax.get_yaxis().set_visible(False)\n",
        "    ax = plt.subplot(2, n, i + 1 + n)\n",
        "    plt.imshow(predictions[i, :].reshape(28, 28))\n",
        "    plt.gray()\n",
        "    ax.get_xaxis().set_visible(False)\n",
        "    ax.get_yaxis().set_visible(False)\n",
        "plt.show()"
      ],
      "metadata": {
        "colab": {
          "base_uri": "https://localhost:8080/",
          "height": 248
        },
        "id": "jHf5iNgnQz3K",
        "outputId": "fbd4f53d-5a45-4b57-c13b-e0d4105cc533"
      },
      "execution_count": 14,
      "outputs": [
        {
          "output_type": "display_data",
          "data": {
            "text/plain": [
              "<Figure size 1440x288 with 20 Axes>"
            ],
            "image/png": "[encoded data removed]"
          },
          "metadata": {
            "needs_background": "light"
          }
        }
      ]
    },
    {
      "cell_type": "markdown",
      "metadata": {
        "id": "-vfUQsjVw89j"
      },
      "source": [
        "\n",
        "## Subtask 1\n",
        "\n",
        " Use two dense layers (hidden and output). Hidden layer with 2 neurons, output layer with 784 neurons. Plot the response of hidden neurons in scatter plot, number categories distinquish by colors.\n"
      ]
    },
    {
      "cell_type": "code",
      "source": [
        "import tensorflow as tf\n",
        "import numpy as np\n",
        "fashion_mnist = tf.keras.datasets.fashion_mnist\n",
        "\n",
        "(x_train, y_train), (x_test, y_test) = fashion_mnist.load_data()\n",
        "#reshape 2D (28x28) Image to 1D (784) \n",
        "x_train = x_train.reshape((len(x_train), np.prod(x_train.shape[1:])))\n",
        "x_test = x_test.reshape((len(x_test), np.prod(x_test.shape[1:])))\n",
        "shapee=x_train.shape[1:]\n",
        "print(shapee)\n",
        "#Rescale  dataset\n",
        "\n",
        "x_train = x_train.astype('float32') / 255.\n",
        "x_test = x_test.astype('float32') / 255.\n",
        "\n",
        "\n",
        "\n",
        "#Encoder\n",
        "input_img = Input(shape=(784,))\n",
        "\n",
        "\n",
        "#code\n",
        "coded = Dense(2, activation='relu')(input_img)\n",
        "#Decoder\n",
        "decoder_1 = Dense(784, activation='sigmoid')(coded)\n",
        "\n",
        "\n",
        "autoencoder = Model(input_img, decoder_1)\n",
        "\n",
        "#compile model\n",
        "autoencoder.compile(loss = 'binary_crossentropy',\n",
        "                    optimizer = 'adam',\n",
        "                    metrics = ['accuracy']\n",
        "                      )\n",
        "autoencoder.summary()\n",
        "\n"
      ],
      "metadata": {
        "colab": {
          "base_uri": "https://localhost:8080/"
        },
        "id": "mOc2k1Z-x9OL",
        "outputId": "c0379195-b2d2-48d5-b22d-0f85a0e466bd"
      },
      "execution_count": 46,
      "outputs": [
        {
          "output_type": "stream",
          "name": "stdout",
          "text": [
            "(784,)\n",
            "Model: \"model_27\"\n",
            "_________________________________________________________________\n",
            " Layer (type)                Output Shape              Param #   \n",
            "=================================================================\n",
            " input_27 (InputLayer)       [(None, 784)]             0         \n",
            "                                                                 \n",
            " dense_53 (Dense)            (None, 2)                 1570      \n",
            "                                                                 \n",
            " dense_54 (Dense)            (None, 784)               2352      \n",
            "                                                                 \n",
            "=================================================================\n",
            "Total params: 3,922\n",
            "Trainable params: 3,922\n",
            "Non-trainable params: 0\n",
            "_________________________________________________________________\n"
          ]
        }
      ]
    },
    {
      "cell_type": "code",
      "source": [
        "autoencoder.fit(x_train, x_train,\n",
        "                epochs=5,\n",
        "                batch_size=32,\n",
        "                )\n",
        "                "
      ],
      "metadata": {
        "colab": {
          "base_uri": "https://localhost:8080/"
        },
        "id": "8zW-lqlQ_dWW",
        "outputId": "9efbc8a8-6e8e-4e51-d7a9-f1928224d8f3"
      },
      "execution_count": 28,
      "outputs": [
        {
          "output_type": "stream",
          "name": "stdout",
          "text": [
            "Epoch 1/5\n",
            "1875/1875 [==============================] - 8s 4ms/step - loss: 0.4351 - accuracy: 0.0203\n",
            "Epoch 2/5\n",
            "1875/1875 [==============================] - 7s 4ms/step - loss: 0.4007 - accuracy: 0.0176\n",
            "Epoch 3/5\n",
            "1875/1875 [==============================] - 10s 5ms/step - loss: 0.3902 - accuracy: 0.0164\n",
            "Epoch 4/5\n",
            "1875/1875 [==============================] - 11s 6ms/step - loss: 0.3826 - accuracy: 0.0162\n",
            "Epoch 5/5\n",
            "1875/1875 [==============================] - 7s 4ms/step - loss: 0.3783 - accuracy: 0.0158\n"
          ]
        },
        {
          "output_type": "execute_result",
          "data": {
            "text/plain": [
              "<keras.callbacks.History at 0x7f6064e9d5d0>"
            ]
          },
          "metadata": {},
          "execution_count": 28
        }
      ]
    },
    {
      "cell_type": "code",
      "source": [
        "#Encoder\n",
        "input_img = Input(shape=(784,))\n",
        "\n",
        "\n",
        "#code\n",
        "coded = Dense(2, activation='relu')(input_img)\n",
        "encoder=Model(input_img, coded)\n",
        "\n",
        "#set weights\n",
        "encoder.layers[1].set_weights(autoencoder.layers[1].get_weights())\n",
        "\n",
        "encoder.compile(loss = 'binary_crossentropy',\n",
        "                    optimizer = 'adam',\n",
        "                    metrics = ['accuracy'])\n",
        "\n",
        "\n",
        "output=encoder.predict(x_train)\n",
        "print(output.shape)"
      ],
      "metadata": {
        "colab": {
          "base_uri": "https://localhost:8080/"
        },
        "id": "pec1PJ73_0Zh",
        "outputId": "302858c4-76d1-452e-afa3-5a67be821e9a"
      },
      "execution_count": 29,
      "outputs": [
        {
          "output_type": "stream",
          "name": "stdout",
          "text": [
            "1875/1875 [==============================] - 3s 1ms/step\n",
            "(60000, 2)\n"
          ]
        }
      ]
    },
    {
      "cell_type": "code",
      "source": [
        "plt.scatter(output[:,0],output[:,1] , c=y_train)\n",
        "plt.show()"
      ],
      "metadata": {
        "colab": {
          "base_uri": "https://localhost:8080/",
          "height": 265
        },
        "id": "Hi49uWB9_5mf",
        "outputId": "d7ae18af-7942-43d0-867f-f86ca0007e82"
      },
      "execution_count": 30,
      "outputs": [
        {
          "output_type": "display_data",
          "data": {
            "text/plain": [
              "<Figure size 432x288 with 1 Axes>"
            ],
            "image/png": "[encoded data removed]"
          },
          "metadata": {
            "needs_background": "light"
          }
        }
      ]
    },
    {
      "cell_type": "markdown",
      "metadata": {
        "id": "LKNSfYaixevV"
      },
      "source": [
        "\n",
        "## Subtask 2\n",
        "\n",
        "Modify Subtask 1 so that you add three hidden layers and 2 latent features, i.e.\n",
        "784-10-2-10-784 neurons. Observe differences.\n",
        "\n"
      ]
    },
    {
      "cell_type": "code",
      "source": [
        "import tensorflow as tf\n",
        "import numpy as np\n",
        "fashion_mnist = tf.keras.datasets.fashion_mnist\n",
        "\n",
        "(x_train, y_train), (x_test, y_test) = fashion_mnist.load_data()\n",
        "#Rescale  dataset\n",
        "import numpy as np\n",
        "\n",
        "x_train = x_train.astype('float32') / 255.\n",
        "x_test = x_test.astype('float32') / 255.\n",
        "\n",
        "#reshape 2D (28x28) Image to 1D (784) \n",
        "x_train = x_train.reshape((len(x_train), np.prod(x_train.shape[1:])))\n",
        "x_test = x_test.reshape((len(x_test), np.prod(x_test.shape[1:])))\n",
        "\n",
        "#Encoder\n",
        "input_img = Input(shape=(784,))\n",
        "encoder = Dense(10, activation='relu')(input_img)\n",
        "\n",
        "coded = Dense(2, activation='relu')(encoder)\n",
        "\n",
        "#Decoder\n",
        "decoder_2 = Dense(10, activation='relu')(coded)\n",
        "\n",
        "decoder_2 = Dense(784, activation='sigmoid')(decoder_2)\n",
        "\n",
        "autoencoder = Model(input_img, decoder_2)\n",
        "\n",
        "#compile model\n",
        "autoencoder.compile(loss = 'binary_crossentropy',\n",
        "                    optimizer = 'adam')\n",
        "autoencoder.summary()\n",
        "autoencoder.fit(x_train, x_train,\n",
        "                epochs=5,\n",
        "                 batch_size=784,)\n",
        "                "
      ],
      "metadata": {
        "colab": {
          "base_uri": "https://localhost:8080/"
        },
        "id": "S80U8gEF_4hx",
        "outputId": "22ff33c2-c34a-4bdb-ba12-ab7fc5754f63"
      },
      "execution_count": 48,
      "outputs": [
        {
          "output_type": "stream",
          "name": "stdout",
          "text": [
            "Model: \"model_28\"\n",
            "_________________________________________________________________\n",
            " Layer (type)                Output Shape              Param #   \n",
            "=================================================================\n",
            " input_28 (InputLayer)       [(None, 784)]             0         \n",
            "                                                                 \n",
            " dense_55 (Dense)            (None, 10)                7850      \n",
            "                                                                 \n",
            " dense_56 (Dense)            (None, 2)                 22        \n",
            "                                                                 \n",
            " dense_57 (Dense)            (None, 10)                30        \n",
            "                                                                 \n",
            " dense_58 (Dense)            (None, 784)               8624      \n",
            "                                                                 \n",
            "=================================================================\n",
            "Total params: 16,526\n",
            "Trainable params: 16,526\n",
            "Non-trainable params: 0\n",
            "_________________________________________________________________\n",
            "Epoch 1/5\n",
            "77/77 [==============================] - 3s 27ms/step - loss: 0.6087\n",
            "Epoch 2/5\n",
            "77/77 [==============================] - 2s 28ms/step - loss: 0.4649\n",
            "Epoch 3/5\n",
            "77/77 [==============================] - 2s 28ms/step - loss: 0.4224\n",
            "Epoch 4/5\n",
            "77/77 [==============================] - 2s 29ms/step - loss: 0.4063\n",
            "Epoch 5/5\n",
            "77/77 [==============================] - 2s 30ms/step - loss: 0.3956\n"
          ]
        },
        {
          "output_type": "execute_result",
          "data": {
            "text/plain": [
              "<keras.callbacks.History at 0x7f605aeded50>"
            ]
          },
          "metadata": {},
          "execution_count": 48
        }
      ]
    },
    {
      "cell_type": "code",
      "source": [
        "input_img = Input(shape=(784,))\n",
        "encoder = Dense(10, activation='relu')(input_img)\n",
        "\n",
        "\n",
        "#code\n",
        "coded = Dense(2, activation='relu')(encoder)\n",
        "\n",
        "#Decoder\n",
        "decoder = Dense(10, activation='relu')(coded)\n",
        "\n",
        "autoencoderr = Model(input_img, decoder)\n",
        "#set weights\n",
        "autoencoderr.layers[3].set_weights(autoencoder.layers[3].get_weights())\n",
        "\n",
        "autoencoderr.compile(loss = 'binary_crossentropy',\n",
        "                    optimizer = 'adam',\n",
        "                    metrics = ['accuracy'])\n",
        "\n",
        "output=autoencoderr.predict(x_train)\n",
        "print(output.shape)\n",
        "\n",
        "\n",
        "plt.scatter(output[:,0],output[:,1] , c=y_train)\n",
        "plt.show()"
      ],
      "metadata": {
        "colab": {
          "base_uri": "https://localhost:8080/",
          "height": 300
        },
        "id": "OIQTJgtnAL83",
        "outputId": "4cb15cc7-d4f2-4bc4-fc7e-4d5b1b1e484a"
      },
      "execution_count": 49,
      "outputs": [
        {
          "output_type": "stream",
          "name": "stdout",
          "text": [
            "1875/1875 [==============================] - 3s 1ms/step\n",
            "(60000, 10)\n"
          ]
        },
        {
          "output_type": "display_data",
          "data": {
            "text/plain": [
              "<Figure size 432x288 with 1 Axes>"
            ],
            "image/png": "[encoded data removed]"
          },
          "metadata": {
            "needs_background": "light"
          }
        }
      ]
    },
    {
      "cell_type": "markdown",
      "metadata": {
        "id": "YXRS8WDQxrhi"
      },
      "source": [
        "## Subtask 3\n",
        "\n",
        "Modify Subtask 1 so that you add convolution layers, pooling layers, ... for the autoencoder and observe differences.\n"
      ]
    },
    {
      "cell_type": "code",
      "source": [
        "fashion_mnist = tf.keras.datasets.fashion_mnist\n",
        "(train_images1, train_labels1), (test_images1, test_labels1) = fashion_mnist.load_data()\n",
        "print(train_images1.shape, test_images1.shape)\n",
        "\n",
        "train_images1 = train_images1.astype('float32') / 255.\n",
        "test_images1 = test_images1.astype('float32') / 255.\n",
        "\n",
        "train_images1 = train_images1.reshape([-1, 28, 28, 1])\n",
        "test_images1 = test_images1.reshape([-1, 28, 28, 1])\n",
        "print(train_images1.shape, test_images1.shape)"
      ],
      "metadata": {
        "colab": {
          "base_uri": "https://localhost:8080/"
        },
        "id": "l2AFjUANALD1",
        "outputId": "a571f2a5-6cc9-4dcb-ef90-442639bcb9ac"
      },
      "execution_count": 34,
      "outputs": [
        {
          "output_type": "stream",
          "name": "stdout",
          "text": [
            "(60000, 28, 28) (10000, 28, 28)\n",
            "(60000, 28, 28, 1) (10000, 28, 28, 1)\n"
          ]
        }
      ]
    },
    {
      "cell_type": "code",
      "metadata": {
        "id": "vZwRdlqgx7Mi",
        "colab": {
          "base_uri": "https://localhost:8080/"
        },
        "outputId": "d6441a7a-6e57-453b-f37f-d461d0fefd8b"
      },
      "source": [
        "input_data = Input(shape=(28, 28, 1))\n",
        " \n",
        "encoder = Conv2D(64, (5,5), activation='relu')(input_data)\n",
        "encoder = MaxPooling2D((2,2))(encoder)\n",
        " \n",
        "encoder = Conv2D(64, (3,3), activation='relu')(encoder)\n",
        "encoder = MaxPooling2D((2,2))(encoder)\n",
        " \n",
        "encoder = Conv2D(32, (3,3), activation='relu')(encoder)\n",
        "encoder = MaxPooling2D((2,2))(encoder)\n",
        " \n",
        "encoder = layers.Flatten()(encoder)\n",
        "encoder = Dense(2)(encoder)\n",
        "encoder_model_33 = Model(input_data, encoder)\n",
        "encoder_model_33.summary()\n",
        "\n",
        "#-------\n",
        "decoder_input = Input(shape=(2))\n",
        "decoder_cnn = Dense(64)(decoder_input)\n",
        "decoder_cnn = layers.Reshape((1, 1, 64))(decoder_cnn)\n",
        "decoder_cnn = Conv2DTranspose(64, (3,3), activation='relu')(decoder_cnn)\n",
        " \n",
        "decoder_cnn = Conv2DTranspose(64, (3,3), activation='relu')(decoder_cnn)\n",
        "decoder_cnn = UpSampling2D((2,2))(decoder_cnn)\n",
        " \n",
        "decoder_cnn = Conv2DTranspose(64, (3,3), activation='relu')(decoder_cnn)\n",
        "decoder_cnn = UpSampling2D((2,2))(decoder_cnn)\n",
        " \n",
        "decoder_output = Conv2DTranspose(1, (5,5), activation='sigmoid')(decoder_cnn)\n",
        "decoder_3 = Model(decoder_input, decoder_output)\n",
        "decoder_3.summary()"
      ],
      "execution_count": 35,
      "outputs": [
        {
          "output_type": "stream",
          "name": "stdout",
          "text": [
            "Model: \"model_20\"\n",
            "_________________________________________________________________\n",
            " Layer (type)                Output Shape              Param #   \n",
            "=================================================================\n",
            " input_19 (InputLayer)       [(None, 28, 28, 1)]       0         \n",
            "                                                                 \n",
            " conv2d_3 (Conv2D)           (None, 24, 24, 64)        1664      \n",
            "                                                                 \n",
            " max_pooling2d_3 (MaxPooling  (None, 12, 12, 64)       0         \n",
            " 2D)                                                             \n",
            "                                                                 \n",
            " conv2d_4 (Conv2D)           (None, 10, 10, 64)        36928     \n",
            "                                                                 \n",
            " max_pooling2d_4 (MaxPooling  (None, 5, 5, 64)         0         \n",
            " 2D)                                                             \n",
            "                                                                 \n",
            " conv2d_5 (Conv2D)           (None, 3, 3, 32)          18464     \n",
            "                                                                 \n",
            " max_pooling2d_5 (MaxPooling  (None, 1, 1, 32)         0         \n",
            " 2D)                                                             \n",
            "                                                                 \n",
            " flatten_1 (Flatten)         (None, 32)                0         \n",
            "                                                                 \n",
            " dense_45 (Dense)            (None, 2)                 66        \n",
            "                                                                 \n",
            "=================================================================\n",
            "Total params: 57,122\n",
            "Trainable params: 57,122\n",
            "Non-trainable params: 0\n",
            "_________________________________________________________________\n",
            "Model: \"model_21\"\n",
            "_________________________________________________________________\n",
            " Layer (type)                Output Shape              Param #   \n",
            "=================================================================\n",
            " input_20 (InputLayer)       [(None, 2)]               0         \n",
            "                                                                 \n",
            " dense_46 (Dense)            (None, 64)                192       \n",
            "                                                                 \n",
            " reshape_1 (Reshape)         (None, 1, 1, 64)          0         \n",
            "                                                                 \n",
            " conv2d_transpose_4 (Conv2DT  (None, 3, 3, 64)         36928     \n",
            " ranspose)                                                       \n",
            "                                                                 \n",
            " conv2d_transpose_5 (Conv2DT  (None, 5, 5, 64)         36928     \n",
            " ranspose)                                                       \n",
            "                                                                 \n",
            " up_sampling2d_2 (UpSampling  (None, 10, 10, 64)       0         \n",
            " 2D)                                                             \n",
            "                                                                 \n",
            " conv2d_transpose_6 (Conv2DT  (None, 12, 12, 64)       36928     \n",
            " ranspose)                                                       \n",
            "                                                                 \n",
            " up_sampling2d_3 (UpSampling  (None, 24, 24, 64)       0         \n",
            " 2D)                                                             \n",
            "                                                                 \n",
            " conv2d_transpose_7 (Conv2DT  (None, 28, 28, 1)        1601      \n",
            " ranspose)                                                       \n",
            "                                                                 \n",
            "=================================================================\n",
            "Total params: 112,577\n",
            "Trainable params: 112,577\n",
            "Non-trainable params: 0\n",
            "_________________________________________________________________\n"
          ]
        }
      ]
    },
    {
      "cell_type": "code",
      "source": [
        "encoder_model_3 = encoder_model_33(input_data)\n",
        "decoder_model_3 = decoder_3(encoder_model_3)\n",
        "\n",
        "# Autoencoder\n",
        "autoencoder_3 = Model(input_data, decoder_model_3)\n",
        "autoencoder_3.compile(optimizer=\"adam\", loss=\"binary_crossentropy\")\n",
        "autoencoder_3.summary()\n",
        "history = autoencoder_3.fit(x = train_images1, y = train_images1, epochs = 5, validation_split=0.1)\n",
        "predictions_3 = autoencoder_3.predict(test_images1)"
      ],
      "metadata": {
        "colab": {
          "base_uri": "https://localhost:8080/"
        },
        "id": "K6r9ZETCD68V",
        "outputId": "bd203cd3-83c5-49f2-a076-276b86960f0d"
      },
      "execution_count": 36,
      "outputs": [
        {
          "output_type": "stream",
          "name": "stdout",
          "text": [
            "Model: \"model_22\"\n",
            "_________________________________________________________________\n",
            " Layer (type)                Output Shape              Param #   \n",
            "=================================================================\n",
            " input_19 (InputLayer)       [(None, 28, 28, 1)]       0         \n",
            "                                                                 \n",
            " model_20 (Functional)       (None, 2)                 57122     \n",
            "                                                                 \n",
            " model_21 (Functional)       (None, 28, 28, 1)         112577    \n",
            "                                                                 \n",
            "=================================================================\n",
            "Total params: 169,699\n",
            "Trainable params: 169,699\n",
            "Non-trainable params: 0\n",
            "_________________________________________________________________\n",
            "Epoch 1/5\n",
            "1688/1688 [==============================] - 182s 107ms/step - loss: 0.3584 - val_loss: 0.3407\n",
            "Epoch 2/5\n",
            "1688/1688 [==============================] - 172s 102ms/step - loss: 0.3339 - val_loss: 0.3354\n",
            "Epoch 3/5\n",
            "1688/1688 [==============================] - 169s 100ms/step - loss: 0.3306 - val_loss: 0.3347\n",
            "Epoch 4/5\n",
            "1688/1688 [==============================] - 174s 103ms/step - loss: 0.3287 - val_loss: 0.3312\n",
            "Epoch 5/5\n",
            "1688/1688 [==============================] - 174s 103ms/step - loss: 0.3273 - val_loss: 0.3302\n",
            "313/313 [==============================] - 10s 30ms/step\n"
          ]
        }
      ]
    },
    {
      "cell_type": "code",
      "source": [
        "def response(d,l, hidden):\n",
        "    ev=hidden.predict(d)\n",
        "    print(\"Predicted shape: \",ev.shape)\n",
        "    print(\"Original shape: \",d.shape)\n",
        "    plt.scatter(ev[:,0],ev[:,1],c=l,cmap='viridis')\n",
        "    plt.show()"
      ],
      "metadata": {
        "id": "7GOFHYgfIADH"
      },
      "execution_count": 39,
      "outputs": []
    },
    {
      "cell_type": "code",
      "source": [
        "response(train_images1,train_labels1,encoder_model_33)"
      ],
      "metadata": {
        "colab": {
          "base_uri": "https://localhost:8080/",
          "height": 317
        },
        "id": "RksiZfmZD-0t",
        "outputId": "2e194a07-3ed0-496e-f4b3-43c785dd7140"
      },
      "execution_count": 40,
      "outputs": [
        {
          "output_type": "stream",
          "name": "stdout",
          "text": [
            "1875/1875 [==============================] - 28s 15ms/step\n",
            "Predicted shape:  (60000, 2)\n",
            "Original shape:  (60000, 28, 28, 1)\n"
          ]
        },
        {
          "output_type": "display_data",
          "data": {
            "text/plain": [
              "<Figure size 432x288 with 1 Axes>"
            ],
            "image/png": "[encoded data removed]"
          },
          "metadata": {
            "needs_background": "light"
          }
        }
      ]
    },
    {
      "cell_type": "markdown",
      "metadata": {
        "id": "29wDJW-Yx9xD"
      },
      "source": [
        "\n",
        "## Subtask 4\n",
        "\n",
        "Extract the decoder from the autoencoder of subtask 1-3 and generate new images based on randomly generated latent features. Plot generated images.\n",
        "\n"
      ]
    },
    {
      "cell_type": "code",
      "source": [
        "# import random\n",
        "# randomlist = []\n",
        "# for i in range(0,4):\n",
        "#     n = round(random.uniform(-5,5),1)\n",
        "#     q = round(random.uniform(-5,5),1)\n",
        "#     randomlist.append([n,q])"
      ],
      "metadata": {
        "id": "5k-VPd8GIxty"
      },
      "execution_count": 41,
      "outputs": []
    },
    {
      "cell_type": "code",
      "source": [
        "# plt.figure(figsize=(20, 4))\n",
        "# for i in range(4):\n",
        "#     # Display original\n",
        "#     ax = plt.subplot(3, 4, i + 1)\n",
        "#     digit_decoded = decoder_1.predict(randomlist)[i]\n",
        "#     plt.imshow(digit_decoded.reshape(28,28), cmap='gray')\n",
        "#     ax.get_xaxis().set_visible(False)\n",
        "#     ax.get_yaxis().set_visible(False)\n",
        "#     # Display reconstruction\n",
        "#     ax = plt.subplot(3, 4, i + 1 + 4)\n",
        "#     digit_decoded = decoder_2.predict(randomlist)[i]\n",
        "#     plt.imshow(digit_decoded.reshape(28,28), cmap='gray')\n",
        "#     ax.get_xaxis().set_visible(False)\n",
        "#     ax.get_yaxis().set_visible(False)\n",
        "#     # Display reconstruction\n",
        "#     ax = plt.subplot(3, 4, i + 1 + 8)\n",
        "#     digit_decoded = decoder_3.predict(randomlist)[i]\n",
        "#     plt.imshow(digit_decoded.reshape(28,28), cmap='gray')\n",
        "#     # plt.gray()\n",
        "#     ax.get_xaxis().set_visible(False)\n",
        "#     ax.get_yaxis().set_visible(False)\n",
        "# plt.show()\n",
        "\n",
        "#I tried to divide the subtask into separate section for this particular code, but unfortunately it did not worked that well."
      ],
      "metadata": {
        "id": "23s5YRy9Iie-"
      },
      "execution_count": 47,
      "outputs": []
    },
    {
      "cell_type": "code",
      "source": [],
      "metadata": {
        "id": "qV8mD8eFOiX2"
      },
      "execution_count": null,
      "outputs": []
    }
  ]
}