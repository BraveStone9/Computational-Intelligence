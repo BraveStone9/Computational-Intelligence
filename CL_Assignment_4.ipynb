{
  "cells": [
    {
      "cell_type": "markdown",
      "metadata": {
        "id": "zkYlViLS7cgf"
      },
      "source": [
        "# Recurrent neural networks"
      ]
    },
    {
      "cell_type": "markdown",
      "metadata": {
        "id": "nQ2GKW7l7pFG"
      },
      "source": [
        "# Task 1\n",
        "\n",
        "Get IBM stock market data and evaluate prediction on a set of recurrent neural networks.\n",
        "\n",
        "Dataset can be downloaded from https://www.kaggle.com/szrlee/stock-time-series-20050101-to-20171231\n",
        "\n"
      ]
    },
    {
      "cell_type": "markdown",
      "metadata": {
        "id": "MI2OZLE98FcG"
      },
      "source": [
        "## Subtask 1\n",
        "\n",
        "Load data and prepare the dataset"
      ]
    },
    {
      "cell_type": "code",
      "source": [
        "from sklearn.preprocessing import MinMaxScaler\n",
        "from keras.models import Sequential\n",
        "from keras.layers import Dense, LSTM, Dropout, GRU, Bidirectional,Flatten,InputLayer,SimpleRNN\n",
        "from keras.optimizers import SGD\n",
        "import math\n",
        "from sklearn.metrics import mean_squared_error"
      ],
      "metadata": {
        "id": "NBf8Aaz3nZZE"
      },
      "execution_count": 274,
      "outputs": []
    },
    {
      "cell_type": "code",
      "source": [
        "# Write your code here\n",
        "import pandas as pd\n",
        "import numpy as np\n",
        "import tensorflow as tf\n",
        "\n",
        "\n",
        "data = pd.read_csv('IBM_2006-01-01_to_2018-01-01.csv', index_col='Date', parse_dates=['Date'])\n",
        "data.head()"
      ],
      "metadata": {
        "colab": {
          "base_uri": "https://localhost:8080/",
          "height": 237
        },
        "id": "76YJLfy-d6IN",
        "outputId": "54922738-5db1-4349-d8f6-8b7cf4de3525"
      },
      "execution_count": 275,
      "outputs": [
        {
          "output_type": "execute_result",
          "data": {
            "text/plain": [
              "             Open   High    Low  Close    Volume Name\n",
              "Date                                                 \n",
              "2006-01-03  82.45  82.55  80.81  82.06  11715200  IBM\n",
              "2006-01-04  82.20  82.50  81.33  81.95   9840600  IBM\n",
              "2006-01-05  81.40  82.90  81.00  82.50   7213500  IBM\n",
              "2006-01-06  83.95  85.03  83.41  84.95   8197400  IBM\n",
              "2006-01-09  84.10  84.25  83.38  83.73   6858200  IBM"
            ],
            "text/html": [
              "\n",
              "  <div id=\"df-ede35ca2-3237-453e-8e62-25a6d5cd3cc1\">\n",
              "    <div class=\"colab-df-container\">\n",
              "      <div>\n",
              "<style scoped>\n",
              "    .dataframe tbody tr th:only-of-type {\n",
              "        vertical-align: middle;\n",
              "    }\n",
              "\n",
              "    .dataframe tbody tr th {\n",
              "        vertical-align: top;\n",
              "    }\n",
              "\n",
              "    .dataframe thead th {\n",
              "        text-align: right;\n",
              "    }\n",
              "</style>\n",
              "<table border=\"1\" class=\"dataframe\">\n",
              "  <thead>\n",
              "    <tr style=\"text-align: right;\">\n",
              "      <th></th>\n",
              "      <th>Open</th>\n",
              "      <th>High</th>\n",
              "      <th>Low</th>\n",
              "      <th>Close</th>\n",
              "      <th>Volume</th>\n",
              "      <th>Name</th>\n",
              "    </tr>\n",
              "    <tr>\n",
              "      <th>Date</th>\n",
              "      <th></th>\n",
              "      <th></th>\n",
              "      <th></th>\n",
              "      <th></th>\n",
              "      <th></th>\n",
              "      <th></th>\n",
              "    </tr>\n",
              "  </thead>\n",
              "  <tbody>\n",
              "    <tr>\n",
              "      <th>2006-01-03</th>\n",
              "      <td>82.45</td>\n",
              "      <td>82.55</td>\n",
              "      <td>80.81</td>\n",
              "      <td>82.06</td>\n",
              "      <td>11715200</td>\n",
              "      <td>IBM</td>\n",
              "    </tr>\n",
              "    <tr>\n",
              "      <th>2006-01-04</th>\n",
              "      <td>82.20</td>\n",
              "      <td>82.50</td>\n",
              "      <td>81.33</td>\n",
              "      <td>81.95</td>\n",
              "      <td>9840600</td>\n",
              "      <td>IBM</td>\n",
              "    </tr>\n",
              "    <tr>\n",
              "      <th>2006-01-05</th>\n",
              "      <td>81.40</td>\n",
              "      <td>82.90</td>\n",
              "      <td>81.00</td>\n",
              "      <td>82.50</td>\n",
              "      <td>7213500</td>\n",
              "      <td>IBM</td>\n",
              "    </tr>\n",
              "    <tr>\n",
              "      <th>2006-01-06</th>\n",
              "      <td>83.95</td>\n",
              "      <td>85.03</td>\n",
              "      <td>83.41</td>\n",
              "      <td>84.95</td>\n",
              "      <td>8197400</td>\n",
              "      <td>IBM</td>\n",
              "    </tr>\n",
              "    <tr>\n",
              "      <th>2006-01-09</th>\n",
              "      <td>84.10</td>\n",
              "      <td>84.25</td>\n",
              "      <td>83.38</td>\n",
              "      <td>83.73</td>\n",
              "      <td>6858200</td>\n",
              "      <td>IBM</td>\n",
              "    </tr>\n",
              "  </tbody>\n",
              "</table>\n",
              "</div>\n",
              "      <button class=\"colab-df-convert\" onclick=\"convertToInteractive('df-ede35ca2-3237-453e-8e62-25a6d5cd3cc1')\"\n",
              "              title=\"Convert this dataframe to an interactive table.\"\n",
              "              style=\"display:none;\">\n",
              "        \n",
              "  <svg xmlns=\"http://www.w3.org/2000/svg\" height=\"24px\"viewBox=\"0 0 24 24\"\n",
              "       width=\"24px\">\n",
              "    <path d=\"M0 0h24v24H0V0z\" fill=\"none\"/>\n",
              "    <path d=\"M18.56 5.44l.94 2.06.94-2.06 2.06-.94-2.06-.94-.94-2.06-.94 2.06-2.06.94zm-11 1L8.5 8.5l.94-2.06 2.06-.94-2.06-.94L8.5 2.5l-.94 2.06-2.06.94zm10 10l.94 2.06.94-2.06 2.06-.94-2.06-.94-.94-2.06-.94 2.06-2.06.94z\"/><path d=\"M17.41 7.96l-1.37-1.37c-.4-.4-.92-.59-1.43-.59-.52 0-1.04.2-1.43.59L10.3 9.45l-7.72 7.72c-.78.78-.78 2.05 0 2.83L4 21.41c.39.39.9.59 1.41.59.51 0 1.02-.2 1.41-.59l7.78-7.78 2.81-2.81c.8-.78.8-2.07 0-2.86zM5.41 20L4 18.59l7.72-7.72 1.47 1.35L5.41 20z\"/>\n",
              "  </svg>\n",
              "      </button>\n",
              "      \n",
              "  <style>\n",
              "    .colab-df-container {\n",
              "      display:flex;\n",
              "      flex-wrap:wrap;\n",
              "      gap: 12px;\n",
              "    }\n",
              "\n",
              "    .colab-df-convert {\n",
              "      background-color: #E8F0FE;\n",
              "      border: none;\n",
              "      border-radius: 50%;\n",
              "      cursor: pointer;\n",
              "      display: none;\n",
              "      fill: #1967D2;\n",
              "      height: 32px;\n",
              "      padding: 0 0 0 0;\n",
              "      width: 32px;\n",
              "    }\n",
              "\n",
              "    .colab-df-convert:hover {\n",
              "      background-color: #E2EBFA;\n",
              "      box-shadow: 0px 1px 2px rgba(60, 64, 67, 0.3), 0px 1px 3px 1px rgba(60, 64, 67, 0.15);\n",
              "      fill: #174EA6;\n",
              "    }\n",
              "\n",
              "    [theme=dark] .colab-df-convert {\n",
              "      background-color: #3B4455;\n",
              "      fill: #D2E3FC;\n",
              "    }\n",
              "\n",
              "    [theme=dark] .colab-df-convert:hover {\n",
              "      background-color: #434B5C;\n",
              "      box-shadow: 0px 1px 3px 1px rgba(0, 0, 0, 0.15);\n",
              "      filter: drop-shadow(0px 1px 2px rgba(0, 0, 0, 0.3));\n",
              "      fill: #FFFFFF;\n",
              "    }\n",
              "  </style>\n",
              "\n",
              "      <script>\n",
              "        const buttonEl =\n",
              "          document.querySelector('#df-ede35ca2-3237-453e-8e62-25a6d5cd3cc1 button.colab-df-convert');\n",
              "        buttonEl.style.display =\n",
              "          google.colab.kernel.accessAllowed ? 'block' : 'none';\n",
              "\n",
              "        async function convertToInteractive(key) {\n",
              "          const element = document.querySelector('#df-ede35ca2-3237-453e-8e62-25a6d5cd3cc1');\n",
              "          const dataTable =\n",
              "            await google.colab.kernel.invokeFunction('convertToInteractive',\n",
              "                                                     [key], {});\n",
              "          if (!dataTable) return;\n",
              "\n",
              "          const docLinkHtml = 'Like what you see? Visit the ' +\n",
              "            '<a target=\"_blank\" href=https://colab.research.google.com/notebooks/data_table.ipynb>data table notebook</a>'\n",
              "            + ' to learn more about interactive tables.';\n",
              "          element.innerHTML = '';\n",
              "          dataTable['output_type'] = 'display_data';\n",
              "          await google.colab.output.renderOutput(dataTable, element);\n",
              "          const docLink = document.createElement('div');\n",
              "          docLink.innerHTML = docLinkHtml;\n",
              "          element.appendChild(docLink);\n",
              "        }\n",
              "      </script>\n",
              "    </div>\n",
              "  </div>\n",
              "  "
            ]
          },
          "metadata": {},
          "execution_count": 275
        }
      ]
    },
    {
      "cell_type": "code",
      "source": [
        "import matplotlib.pyplot as plt\n",
        "\n",
        "plt.plot(data.index,data['Open'])\n",
        "plt.show()"
      ],
      "metadata": {
        "colab": {
          "base_uri": "https://localhost:8080/",
          "height": 266
        },
        "id": "jRdfq8Wpi-5e",
        "outputId": "8aa322e4-eac7-4b90-d1ce-ac67a4c2c6a6"
      },
      "execution_count": 276,
      "outputs": [
        {
          "output_type": "display_data",
          "data": {
            "text/plain": [
              "<Figure size 432x288 with 1 Axes>"
            ],
            "image/png": "[encoded data removed]"
          },
          "metadata": {
            "needs_background": "light"
          }
        }
      ]
    },
    {
      "cell_type": "code",
      "source": [
        "# train and test split\n",
        "\n",
        "# train data\n",
        "close_prices = data['Close']\n",
        "training_set = close_prices[:'2016']\n",
        "test_set = close_prices['2017':]\n",
        "# print(len(training_set))\n",
        "# print(len(test_set))\n",
        "\n",
        "#Min-Max Scaling for the data\n",
        "scaler = MinMaxScaler(feature_range=(0,1))\n",
        "scaled_data = scaler.fit_transform(training_set.values.reshape(-1,1))\n",
        "scaled_data.shape"
      ],
      "metadata": {
        "colab": {
          "base_uri": "https://localhost:8080/"
        },
        "id": "kE3Dvnt7J99m",
        "outputId": "e689f321-0666-4331-927b-736477fd3f72"
      },
      "execution_count": 277,
      "outputs": [
        {
          "output_type": "execute_result",
          "data": {
            "text/plain": [
              "(2769, 1)"
            ]
          },
          "metadata": {},
          "execution_count": 277
        }
      ]
    },
    {
      "cell_type": "code",
      "source": [
        "# sliding window\n",
        "window_size = 20\n",
        "\n",
        "x_train = []\n",
        "y_train = []\n",
        "\n",
        "# Sliding window\n",
        "for i in range(window_size, len(scaled_data)):      \n",
        "    x_train.append(scaled_data[i-window_size:i, 0])\n",
        "    y_train.append(scaled_data[i, 0])                     \n",
        "\n",
        "    \n",
        "x_train, y_train = np.array(x_train), np.array(y_train)\n",
        "x_train = np.reshape(x_train, (x_train.shape[0], x_train.shape[1], 1))\n",
        "print(x_train.shape,y_train.shape)"
      ],
      "metadata": {
        "colab": {
          "base_uri": "https://localhost:8080/"
        },
        "id": "vPSrHwyRKtGx",
        "outputId": "ca6163e6-81a9-4260-db72-476d353a08d4"
      },
      "execution_count": 278,
      "outputs": [
        {
          "output_type": "stream",
          "name": "stdout",
          "text": [
            "(2749, 20, 1) (2749,)\n"
          ]
        }
      ]
    },
    {
      "cell_type": "code",
      "source": [
        "# test data\n",
        "actual_values = test_set.values\n",
        "total_dataset = pd.concat((training_set, test_set), axis=0)\n",
        "len_train_data = len(total_dataset)-len(test_set)\n",
        "\n",
        "x_test = []\n",
        "y_test = []\n",
        "\n",
        "y_test = total_dataset[len_train_data-window_size:].values\n",
        "y_test = y_test.reshape(-1,1)\n",
        "\n",
        "y_test = scaler.transform(y_test)\n",
        "# y_test.shape\n",
        "\n",
        "\n",
        "for i in range(window_size, len(y_test)):\n",
        "  x_test.append(y_test[i-window_size:i, 0])\n",
        "\n",
        "x_test = np.array(x_test)\n",
        "x_test = np.reshape(x_test, (x_test.shape[0], x_test.shape[1], 1))\n",
        "print(x_test.shape,y_test.shape)"
      ],
      "metadata": {
        "colab": {
          "base_uri": "https://localhost:8080/"
        },
        "id": "cPRH3GArCKA7",
        "outputId": "915a3c99-40df-4083-af48-e580646ae365"
      },
      "execution_count": 279,
      "outputs": [
        {
          "output_type": "stream",
          "name": "stdout",
          "text": [
            "(251, 20, 1) (271, 1)\n"
          ]
        }
      ]
    },
    {
      "cell_type": "markdown",
      "metadata": {
        "id": "wiX_TiH9IjE4"
      },
      "source": [
        "# Subtask 2\n",
        "\n",
        "Perform prediction by using feed-forward neural network (sliding window)"
      ]
    },
    {
      "cell_type": "code",
      "execution_count": 295,
      "metadata": {
        "id": "kAeJRHnsIzg0",
        "colab": {
          "base_uri": "https://localhost:8080/"
        },
        "outputId": "ca002c66-3cef-4c07-c72c-7c200fd95ee6"
      },
      "outputs": [
        {
          "output_type": "stream",
          "name": "stdout",
          "text": [
            "Model: \"sequential_52\"\n",
            "_________________________________________________________________\n",
            " Layer (type)                Output Shape              Param #   \n",
            "=================================================================\n",
            " flatten_23 (Flatten)        (None, 20)                0         \n",
            "                                                                 \n",
            " dense_108 (Dense)           (None, 16)                336       \n",
            "                                                                 \n",
            " dense_109 (Dense)           (None, 1)                 17        \n",
            "                                                                 \n",
            "=================================================================\n",
            "Total params: 353\n",
            "Trainable params: 353\n",
            "Non-trainable params: 0\n",
            "_________________________________________________________________\n"
          ]
        }
      ],
      "source": [
        "# Feed Forward Neural network \n",
        "\n",
        "\n",
        "model = Sequential()\n",
        "model.add(Flatten(input_shape=(x_train.shape[1],1)))\n",
        "model.add(Dense(16,activation=\"relu\"))\n",
        "model.add(Dense(1,activation=\"linear\"))\n",
        "model.summary()"
      ]
    },
    {
      "cell_type": "code",
      "source": [
        "model.compile(optimizer='adam', loss='mean_squared_error', metrics=\"mse\")\n",
        "FFNhist = model.fit(x_train, y_train, epochs=20, batch_size=64)"
      ],
      "metadata": {
        "colab": {
          "base_uri": "https://localhost:8080/"
        },
        "id": "mAhgGNLntflQ",
        "outputId": "151fb68e-3e08-42ad-fa84-4d6afdd6aa7b"
      },
      "execution_count": 296,
      "outputs": [
        {
          "output_type": "stream",
          "name": "stdout",
          "text": [
            "Epoch 1/20\n",
            "43/43 [==============================] - 0s 2ms/step - loss: 0.1474 - mse: 0.1474\n",
            "Epoch 2/20\n",
            "43/43 [==============================] - 0s 2ms/step - loss: 0.0033 - mse: 0.0033\n",
            "Epoch 3/20\n",
            "43/43 [==============================] - 0s 2ms/step - loss: 0.0026 - mse: 0.0026\n",
            "Epoch 4/20\n",
            "43/43 [==============================] - 0s 2ms/step - loss: 0.0025 - mse: 0.0025\n",
            "Epoch 5/20\n",
            "43/43 [==============================] - 0s 2ms/step - loss: 0.0023 - mse: 0.0023\n",
            "Epoch 6/20\n",
            "43/43 [==============================] - 0s 2ms/step - loss: 0.0022 - mse: 0.0022\n",
            "Epoch 7/20\n",
            "43/43 [==============================] - 0s 2ms/step - loss: 0.0021 - mse: 0.0021\n",
            "Epoch 8/20\n",
            "43/43 [==============================] - 0s 2ms/step - loss: 0.0020 - mse: 0.0020\n",
            "Epoch 9/20\n",
            "43/43 [==============================] - 0s 2ms/step - loss: 0.0019 - mse: 0.0019\n",
            "Epoch 10/20\n",
            "43/43 [==============================] - 0s 2ms/step - loss: 0.0019 - mse: 0.0019\n",
            "Epoch 11/20\n",
            "43/43 [==============================] - 0s 2ms/step - loss: 0.0018 - mse: 0.0018\n",
            "Epoch 12/20\n",
            "43/43 [==============================] - 0s 2ms/step - loss: 0.0016 - mse: 0.0016\n",
            "Epoch 13/20\n",
            "43/43 [==============================] - 0s 2ms/step - loss: 0.0014 - mse: 0.0014\n",
            "Epoch 14/20\n",
            "43/43 [==============================] - 0s 2ms/step - loss: 0.0013 - mse: 0.0013\n",
            "Epoch 15/20\n",
            "43/43 [==============================] - 0s 2ms/step - loss: 0.0012 - mse: 0.0012\n",
            "Epoch 16/20\n",
            "43/43 [==============================] - 0s 2ms/step - loss: 0.0011 - mse: 0.0011\n",
            "Epoch 17/20\n",
            "43/43 [==============================] - 0s 2ms/step - loss: 0.0010 - mse: 0.0010\n",
            "Epoch 18/20\n",
            "43/43 [==============================] - 0s 2ms/step - loss: 0.0010 - mse: 0.0010\n",
            "Epoch 19/20\n",
            "43/43 [==============================] - 0s 2ms/step - loss: 9.5649e-04 - mse: 9.5649e-04\n",
            "Epoch 20/20\n",
            "43/43 [==============================] - 0s 2ms/step - loss: 9.0950e-04 - mse: 9.0950e-04\n"
          ]
        }
      ]
    },
    {
      "cell_type": "code",
      "source": [
        "FFNpredictions = model.predict(x_test)\n",
        "FFNpredictions = scaler.inverse_transform(FFNpredictions)\n",
        "FFNmse = mean_squared_error(test_set,FFNpredictions.flatten())\n",
        "print(\"FFN-mse :\",FFNmse)"
      ],
      "metadata": {
        "colab": {
          "base_uri": "https://localhost:8080/"
        },
        "id": "Tn-QkjmntvlZ",
        "outputId": "7782413c-d0a9-4a5b-d8a4-7e5ca3ea8541"
      },
      "execution_count": 297,
      "outputs": [
        {
          "output_type": "stream",
          "name": "stdout",
          "text": [
            "8/8 [==============================] - 0s 2ms/step\n",
            "FFN-mse : 12.658755852160558\n"
          ]
        }
      ]
    },
    {
      "cell_type": "code",
      "source": [
        "# len(FFNpredictions)\n",
        "# actual_values[:len(FFNpredictions)]"
      ],
      "metadata": {
        "id": "w4dYrNk8v07U"
      },
      "execution_count": 298,
      "outputs": []
    },
    {
      "cell_type": "code",
      "source": [
        "plt.plot(actual_values, color='red', label=f\"Actual\")\n",
        "plt.plot(FFNpredictions, color= 'green', label=\"Predicted\")\n",
        "plt.title(\"Stock prediction using FFN\")\n",
        "plt.xlabel(\"Days\")\n",
        "plt.ylabel(\"Price\")\n",
        "plt.legend()\n",
        "plt.show()"
      ],
      "metadata": {
        "colab": {
          "base_uri": "https://localhost:8080/",
          "height": 295
        },
        "id": "H4iZQKMzuRey",
        "outputId": "45b892e9-57f4-4208-ad53-084f3f229ec0"
      },
      "execution_count": 299,
      "outputs": [
        {
          "output_type": "display_data",
          "data": {
            "text/plain": [
              "<Figure size 432x288 with 1 Axes>"
            ],
            "image/png": "[encoded data removed]"
          },
          "metadata": {
            "needs_background": "light"
          }
        }
      ]
    },
    {
      "cell_type": "markdown",
      "metadata": {
        "id": "y9lKq0usI3BJ"
      },
      "source": [
        "## Subtask 3\n",
        "\n",
        "Perform prediction by using RNN"
      ]
    },
    {
      "cell_type": "code",
      "execution_count": 303,
      "metadata": {
        "id": "TA0XKcuhJBT5",
        "colab": {
          "base_uri": "https://localhost:8080/"
        },
        "outputId": "546b71c5-e958-422b-9a6c-dd28cdbe080d"
      },
      "outputs": [
        {
          "output_type": "stream",
          "name": "stdout",
          "text": [
            "Model: \"sequential_54\"\n",
            "_________________________________________________________________\n",
            " Layer (type)                Output Shape              Param #   \n",
            "=================================================================\n",
            " simple_rnn_15 (SimpleRNN)   (None, 32)                1088      \n",
            "                                                                 \n",
            " dense_112 (Dense)           (None, 8)                 264       \n",
            "                                                                 \n",
            " dense_113 (Dense)           (None, 1)                 9         \n",
            "                                                                 \n",
            "=================================================================\n",
            "Total params: 1,361\n",
            "Trainable params: 1,361\n",
            "Non-trainable params: 0\n",
            "_________________________________________________________________\n"
          ]
        }
      ],
      "source": [
        "# RNN model\n",
        "RNNmodel = Sequential()\n",
        "RNNmodel.add(SimpleRNN(units=32, input_shape=(x_train.shape[1],1), activation='tanh'))\n",
        "RNNmodel.add(Dense(units=8, activation='tanh'))\n",
        "RNNmodel.add(Dense(units=1, activation='linear'))\n",
        "RNNmodel.summary()"
      ]
    },
    {
      "cell_type": "code",
      "source": [
        "RNNmodel.compile(optimizer='adam', loss='mean_squared_error', metrics=\"mse\")\n",
        "RNNhist = RNNmodel.fit(x_train, y_train, epochs=20, batch_size=64)"
      ],
      "metadata": {
        "colab": {
          "base_uri": "https://localhost:8080/"
        },
        "id": "_T-7k0xSzPHk",
        "outputId": "e4d35cb3-17e6-4c66-9c10-6e8c71f6263c"
      },
      "execution_count": 304,
      "outputs": [
        {
          "output_type": "stream",
          "name": "stdout",
          "text": [
            "Epoch 1/20\n",
            "43/43 [==============================] - 1s 6ms/step - loss: 0.0678 - mse: 0.0678\n",
            "Epoch 2/20\n",
            "43/43 [==============================] - 0s 5ms/step - loss: 0.0025 - mse: 0.0025\n",
            "Epoch 3/20\n",
            "43/43 [==============================] - 0s 5ms/step - loss: 0.0017 - mse: 0.0017\n",
            "Epoch 4/20\n",
            "43/43 [==============================] - 0s 6ms/step - loss: 0.0014 - mse: 0.0014\n",
            "Epoch 5/20\n",
            "43/43 [==============================] - 0s 5ms/step - loss: 0.0013 - mse: 0.0013\n",
            "Epoch 6/20\n",
            "43/43 [==============================] - 0s 5ms/step - loss: 0.0011 - mse: 0.0011\n",
            "Epoch 7/20\n",
            "43/43 [==============================] - 0s 5ms/step - loss: 0.0010 - mse: 0.0010\n",
            "Epoch 8/20\n",
            "43/43 [==============================] - 0s 5ms/step - loss: 9.3683e-04 - mse: 9.3683e-04\n",
            "Epoch 9/20\n",
            "43/43 [==============================] - 0s 6ms/step - loss: 8.2568e-04 - mse: 8.2568e-04\n",
            "Epoch 10/20\n",
            "43/43 [==============================] - 0s 5ms/step - loss: 7.7400e-04 - mse: 7.7400e-04\n",
            "Epoch 11/20\n",
            "43/43 [==============================] - 0s 5ms/step - loss: 7.2589e-04 - mse: 7.2589e-04\n",
            "Epoch 12/20\n",
            "43/43 [==============================] - 0s 5ms/step - loss: 6.8231e-04 - mse: 6.8231e-04\n",
            "Epoch 13/20\n",
            "43/43 [==============================] - 0s 6ms/step - loss: 6.2841e-04 - mse: 6.2841e-04\n",
            "Epoch 14/20\n",
            "43/43 [==============================] - 0s 5ms/step - loss: 6.1429e-04 - mse: 6.1429e-04\n",
            "Epoch 15/20\n",
            "43/43 [==============================] - 0s 5ms/step - loss: 5.6365e-04 - mse: 5.6365e-04\n",
            "Epoch 16/20\n",
            "43/43 [==============================] - 0s 5ms/step - loss: 5.5730e-04 - mse: 5.5730e-04\n",
            "Epoch 17/20\n",
            "43/43 [==============================] - 0s 6ms/step - loss: 4.9899e-04 - mse: 4.9899e-04\n",
            "Epoch 18/20\n",
            "43/43 [==============================] - 0s 6ms/step - loss: 4.7966e-04 - mse: 4.7966e-04\n",
            "Epoch 19/20\n",
            "43/43 [==============================] - 0s 5ms/step - loss: 4.7157e-04 - mse: 4.7157e-04\n",
            "Epoch 20/20\n",
            "43/43 [==============================] - 0s 6ms/step - loss: 4.4764e-04 - mse: 4.4764e-04\n"
          ]
        }
      ]
    },
    {
      "cell_type": "code",
      "source": [
        "RNNpredictions = RNNmodel.predict(x_test)\n",
        "RNNpredictions = scaler.inverse_transform(RNNpredictions)\n",
        "RNNmse = mean_squared_error(test_set,RNNpredictions.flatten())\n",
        "print(\"RNN-mse :\",RNNmse)"
      ],
      "metadata": {
        "colab": {
          "base_uri": "https://localhost:8080/"
        },
        "id": "6lV8Wk4Yzg5w",
        "outputId": "4628c772-b605-45b6-cdd8-e34585a396d2"
      },
      "execution_count": 305,
      "outputs": [
        {
          "output_type": "stream",
          "name": "stdout",
          "text": [
            "8/8 [==============================] - 0s 3ms/step\n",
            "RNN-mse : 6.167714021933142\n"
          ]
        }
      ]
    },
    {
      "cell_type": "code",
      "source": [
        "plt.plot(actual_values, color='red', label=f\"Actual\")\n",
        "plt.plot(RNNpredictions, color= 'green', label=\"Predicted\")\n",
        "plt.title(\"Stock prediction using RNN\")\n",
        "plt.xlabel(\"Days\")\n",
        "plt.ylabel(\"Price\")\n",
        "plt.legend()\n",
        "plt.show()"
      ],
      "metadata": {
        "colab": {
          "base_uri": "https://localhost:8080/",
          "height": 295
        },
        "id": "7nrko_O7zmND",
        "outputId": "8ea2dfc1-2f12-486d-e103-fae3ce77c763"
      },
      "execution_count": 306,
      "outputs": [
        {
          "output_type": "display_data",
          "data": {
            "text/plain": [
              "<Figure size 432x288 with 1 Axes>"
            ],
            "image/png": "[encoded data removed]"
          },
          "metadata": {
            "needs_background": "light"
          }
        }
      ]
    },
    {
      "cell_type": "markdown",
      "metadata": {
        "id": "Q_UiVz83JJNV"
      },
      "source": [
        "## Subtask 4\n",
        "\n",
        "Perform prediction by using LSTM"
      ]
    },
    {
      "cell_type": "code",
      "execution_count": 307,
      "metadata": {
        "id": "80pZTpo2I2pv",
        "colab": {
          "base_uri": "https://localhost:8080/"
        },
        "outputId": "d3acae89-215f-49b4-8179-11468369ad13"
      },
      "outputs": [
        {
          "output_type": "stream",
          "name": "stdout",
          "text": [
            "Model: \"sequential_55\"\n",
            "_________________________________________________________________\n",
            " Layer (type)                Output Shape              Param #   \n",
            "=================================================================\n",
            " lstm_20 (LSTM)              (None, 100)               40800     \n",
            "                                                                 \n",
            " dense_114 (Dense)           (None, 50)                5050      \n",
            "                                                                 \n",
            " dense_115 (Dense)           (None, 1)                 51        \n",
            "                                                                 \n",
            "=================================================================\n",
            "Total params: 45,901\n",
            "Trainable params: 45,901\n",
            "Non-trainable params: 0\n",
            "_________________________________________________________________\n"
          ]
        }
      ],
      "source": [
        "# Write your code here\n",
        "LSTMmodel = Sequential()\n",
        "LSTMmodel.add(InputLayer(input_shape=(x_train.shape[1], 1)))\n",
        "LSTMmodel.add(LSTM(100, return_sequences=False))\n",
        "LSTMmodel.add(Dense(50))\n",
        "LSTMmodel.add(Dense(1))\n",
        "LSTMmodel.summary()"
      ]
    },
    {
      "cell_type": "code",
      "source": [
        "LSTMmodel.compile(optimizer='adam',loss='mean_squared_error', metrics=\"mse\")\n",
        "LSTMhist = LSTMmodel.fit(x_train, y_train, batch_size= 64, epochs=20)"
      ],
      "metadata": {
        "colab": {
          "base_uri": "https://localhost:8080/"
        },
        "id": "wSRO6uTXPWBU",
        "outputId": "fef0451a-1086-45d1-f7af-267af710249c"
      },
      "execution_count": 308,
      "outputs": [
        {
          "output_type": "stream",
          "name": "stdout",
          "text": [
            "Epoch 1/20\n",
            "43/43 [==============================] - 4s 28ms/step - loss: 0.0264 - mse: 0.0264\n",
            "Epoch 2/20\n",
            "43/43 [==============================] - 1s 28ms/step - loss: 6.9972e-04 - mse: 6.9972e-04\n",
            "Epoch 3/20\n",
            "43/43 [==============================] - 1s 29ms/step - loss: 4.5620e-04 - mse: 4.5620e-04\n",
            "Epoch 4/20\n",
            "43/43 [==============================] - 1s 28ms/step - loss: 4.5123e-04 - mse: 4.5123e-04\n",
            "Epoch 5/20\n",
            "43/43 [==============================] - 1s 27ms/step - loss: 4.3951e-04 - mse: 4.3951e-04\n",
            "Epoch 6/20\n",
            "43/43 [==============================] - 1s 28ms/step - loss: 4.3540e-04 - mse: 4.3540e-04\n",
            "Epoch 7/20\n",
            "43/43 [==============================] - 1s 28ms/step - loss: 4.2884e-04 - mse: 4.2884e-04\n",
            "Epoch 8/20\n",
            "43/43 [==============================] - 1s 28ms/step - loss: 4.2329e-04 - mse: 4.2329e-04\n",
            "Epoch 9/20\n",
            "43/43 [==============================] - 1s 28ms/step - loss: 4.1525e-04 - mse: 4.1525e-04\n",
            "Epoch 10/20\n",
            "43/43 [==============================] - 1s 28ms/step - loss: 4.0915e-04 - mse: 4.0915e-04\n",
            "Epoch 11/20\n",
            "43/43 [==============================] - 1s 27ms/step - loss: 4.0505e-04 - mse: 4.0505e-04\n",
            "Epoch 12/20\n",
            "43/43 [==============================] - 1s 28ms/step - loss: 3.9186e-04 - mse: 3.9186e-04\n",
            "Epoch 13/20\n",
            "43/43 [==============================] - 1s 27ms/step - loss: 3.8972e-04 - mse: 3.8972e-04\n",
            "Epoch 14/20\n",
            "43/43 [==============================] - 1s 27ms/step - loss: 3.7893e-04 - mse: 3.7893e-04\n",
            "Epoch 15/20\n",
            "43/43 [==============================] - 1s 27ms/step - loss: 3.7842e-04 - mse: 3.7842e-04\n",
            "Epoch 16/20\n",
            "43/43 [==============================] - 1s 28ms/step - loss: 3.7025e-04 - mse: 3.7025e-04\n",
            "Epoch 17/20\n",
            "43/43 [==============================] - 1s 28ms/step - loss: 3.6837e-04 - mse: 3.6837e-04\n",
            "Epoch 18/20\n",
            "43/43 [==============================] - 1s 27ms/step - loss: 3.5910e-04 - mse: 3.5910e-04\n",
            "Epoch 19/20\n",
            "43/43 [==============================] - 1s 28ms/step - loss: 3.5043e-04 - mse: 3.5043e-04\n",
            "Epoch 20/20\n",
            "43/43 [==============================] - 1s 27ms/step - loss: 3.4417e-04 - mse: 3.4417e-04\n"
          ]
        }
      ]
    },
    {
      "cell_type": "code",
      "source": [
        "LSTMpredictions = LSTMmodel.predict(x_test)\n",
        "LSTMpredictions = scaler.inverse_transform(LSTMpredictions)\n",
        "LSTMmse = mean_squared_error(test_set,LSTMpredictions.flatten())\n",
        "print(\"LSTM-mse :\",LSTMmse)"
      ],
      "metadata": {
        "colab": {
          "base_uri": "https://localhost:8080/"
        },
        "id": "d5CfVR86Qccw",
        "outputId": "9b8271ac-341c-4409-80e7-ba68a71bc7c7"
      },
      "execution_count": 309,
      "outputs": [
        {
          "output_type": "stream",
          "name": "stdout",
          "text": [
            "8/8 [==============================] - 1s 6ms/step\n",
            "LSTM-mse : 4.951494909505503\n"
          ]
        }
      ]
    },
    {
      "cell_type": "code",
      "source": [
        "plt.plot(actual_values, color='red', label=f\"Actual price\")\n",
        "plt.plot(LSTMpredictions, color= 'green', label=\"Predicted price\")\n",
        "plt.title(\"Stock prediction using LSTM\")\n",
        "plt.xlabel(\"Days\")\n",
        "plt.ylabel(\"Price\")\n",
        "plt.legend()\n",
        "plt.show()"
      ],
      "metadata": {
        "colab": {
          "base_uri": "https://localhost:8080/",
          "height": 295
        },
        "id": "wOKTF8Rkuswc",
        "outputId": "6f76e0b7-9f9d-452d-85a4-834a83d6df47"
      },
      "execution_count": 310,
      "outputs": [
        {
          "output_type": "display_data",
          "data": {
            "text/plain": [
              "<Figure size 432x288 with 1 Axes>"
            ],
            "image/png": "[encoded data removed]"
          },
          "metadata": {
            "needs_background": "light"
          }
        }
      ]
    },
    {
      "cell_type": "markdown",
      "metadata": {
        "id": "dByXV7AFJbpX"
      },
      "source": [
        "## Subtask 5\n",
        "\n",
        "Compare all above results by using MSE error and dermine the best architecture. You can do tests on more stock data than IBM."
      ]
    },
    {
      "cell_type": "code",
      "source": [
        "# comparing results using MSE error\n",
        "fig, ax = plt.subplots(ncols=3, figsize=(16, 5))\n",
        "ax[0].plot(FFNhist.history[\"mse\"], color=\"red\")\n",
        "ax[0].set_title(\"MSE for FNN\")\n",
        "ax[1].plot(RNNhist.history[\"mse\"],color=\"green\")\n",
        "ax[1].set_title(\"MSE for RNN\")\n",
        "ax[2].plot(LSTMhist.history[\"mse\"],color=\"blue\")\n",
        "ax[2].set_title(\"MSE for LSTM\")\n",
        "\n",
        "plt.show()\n"
      ],
      "metadata": {
        "colab": {
          "base_uri": "https://localhost:8080/",
          "height": 336
        },
        "id": "1qdf7hRr5aaX",
        "outputId": "45514544-c25f-4f81-c33b-748be3cb3ae5"
      },
      "execution_count": 311,
      "outputs": [
        {
          "output_type": "display_data",
          "data": {
            "text/plain": [
              "<Figure size 1152x360 with 3 Axes>"
            ],
            "image/png": "[encoded data removed]"
          },
          "metadata": {
            "needs_background": "light"
          }
        }
      ]
    },
    {
      "cell_type": "code",
      "source": [
        "print(\"FFN-MSE:\",FFNmse)\n",
        "print(\"RNN-MSE:\",RNNmse)\n",
        "print(\"LSTM-mse:\",LSTMmse)"
      ],
      "metadata": {
        "colab": {
          "base_uri": "https://localhost:8080/"
        },
        "id": "C4gdQ6lY6bdx",
        "outputId": "f227173c-538e-4480-8d60-7d6a56babcfd"
      },
      "execution_count": 312,
      "outputs": [
        {
          "output_type": "stream",
          "name": "stdout",
          "text": [
            "FFN-MSE: 12.658755852160558\n",
            "RNN-MSE: 6.167714021933142\n",
            "LSTM-mse: 4.951494909505503\n"
          ]
        }
      ]
    },
    {
      "cell_type": "code",
      "source": [
        "print(\"By the above comparision we can clearly observe that LSTM model has the better MSE value\")"
      ],
      "metadata": {
        "colab": {
          "base_uri": "https://localhost:8080/"
        },
        "id": "07iExPHH70aR",
        "outputId": "6a4077d7-93c3-42b5-f5a1-1f855ad3131e"
      },
      "execution_count": 313,
      "outputs": [
        {
          "output_type": "stream",
          "name": "stdout",
          "text": [
            "By the above comparision we can clearly observe that LSTM model has the better MSE value\n"
          ]
        }
      ]
    },
    {
      "cell_type": "code",
      "source": [],
      "metadata": {
        "id": "x54ZBMP8KTm-"
      },
      "execution_count": null,
      "outputs": []
    }
  ],
  "metadata": {
    "colab": {
      "provenance": []
    },
    "kernelspec": {
      "display_name": "Python 3",
      "language": "python",
      "name": "python3"
    },
    "language_info": {
      "codemirror_mode": {
        "name": "ipython",
        "version": 3
      },
      "file_extension": ".py",
      "mimetype": "text/x-python",
      "name": "python",
      "nbconvert_exporter": "python",
      "pygments_lexer": "ipython3",
      "version": "3.7.7"
    }
  },
  "nbformat": 4,
  "nbformat_minor": 0
}